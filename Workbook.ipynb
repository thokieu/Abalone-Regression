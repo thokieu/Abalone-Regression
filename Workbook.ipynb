{
 "cells": [
  {
   "cell_type": "code",
   "execution_count": null,
   "metadata": {},
   "outputs": [],
   "source": [
    "import seaborn as sns\n",
    "import numpy as np\n",
    "import pandas as pd\n",
    "import scipy.linalg as la\n",
    "import math\n",
    "import matplotlib\n",
    "import matplotlib.pyplot as plt"
   ]
  },
  {
   "cell_type": "markdown",
   "metadata": {},
   "source": [
    "## Project Focus:\n",
    "\n",
    "Fit a regression line to the provided data to estimate and predict abalone age based on multiple physical attributes.\n",
    "<br>\n",
    "Provide reasoning for multivariate techniques as well as assumptions on that makes them valid to use.\n",
    "\n",
    "## Credentials\n",
    "\n",
    "Data comes from an original study:\n",
    "\n",
    "\tWarwick J Nash, Tracy L Sellers, Simon R Talbot, Andrew J Cawthorn and\n",
    "\tWes B Ford (1994) \"The Population Biology of Abalone (_Haliotis_\n",
    "\tspecies) in Tasmania. I. Blacklip Abalone (_H. rubra_) from the North\n",
    "\tCoast and Islands of Bass Strait\", Sea Fisheries Division, Technical\n",
    "\tReport No. 48 (ISSN 1034-3288)\n",
    "    \n",
    "Original owners of data:\n",
    "    \n",
    "\tMarine Resources Division\n",
    "\tMarine Research Laboratories - Taroona\n",
    "\tDepartment of Primary Industry and Fisheries, Tasmania\n",
    "\tGPO Box 619F, Hobart, Tasmania 7001, Australia\n",
    "\t(contact: Warwick Nash +61 02 277277, wnash@dpi.tas.gov.au)"
   ]
  },
  {
   "cell_type": "markdown",
   "metadata": {},
   "source": [
    "## Cleaning Data\n",
    "\n",
    "Attribute information:\n",
    "\n",
    "| Variable  | Data Type | Units | Description |\n",
    "| :--- | :--- | :--- | :--- |\n",
    "| Sex | Ordinal |\tM, F, I | M = male, F = female, I = infant |\n",
    "| Length | Continuous |\tmm | longest shell measurement |\n",
    "| Diameter | Continuous | mm | perpendicular to length |\n",
    "| Height | Continuous | mm | with meat in shell |\n",
    "| Whole weight | Continuous | grams | whole abalone |\n",
    "| Shucked weight | Continuous | grams |weight of meat |\n",
    "| Viscera weight | Continuous | grams | gut weight (after bleeding) |\n",
    "| Shell weight | Continuous | grams | after being dried |\n",
    "| Rings | Integer | | +1.5 gives the age in years |\n",
    "\n",
    "   \n",
    "\n"
   ]
  },
  {
   "cell_type": "code",
   "execution_count": 31,
   "metadata": {},
   "outputs": [
    {
     "data": {
      "text/html": [
       "<div>\n",
       "<style scoped>\n",
       "    .dataframe tbody tr th:only-of-type {\n",
       "        vertical-align: middle;\n",
       "    }\n",
       "\n",
       "    .dataframe tbody tr th {\n",
       "        vertical-align: top;\n",
       "    }\n",
       "\n",
       "    .dataframe thead th {\n",
       "        text-align: right;\n",
       "    }\n",
       "</style>\n",
       "<table border=\"1\" class=\"dataframe\">\n",
       "  <thead>\n",
       "    <tr style=\"text-align: right;\">\n",
       "      <th></th>\n",
       "      <th>Length</th>\n",
       "      <th>Diameter</th>\n",
       "      <th>Height</th>\n",
       "      <th>Whole Weight</th>\n",
       "      <th>Ring Count</th>\n",
       "    </tr>\n",
       "  </thead>\n",
       "  <tbody>\n",
       "    <tr>\n",
       "      <td>0</td>\n",
       "      <td>0.455</td>\n",
       "      <td>0.365</td>\n",
       "      <td>0.095</td>\n",
       "      <td>0.5140</td>\n",
       "      <td>15</td>\n",
       "    </tr>\n",
       "    <tr>\n",
       "      <td>1</td>\n",
       "      <td>0.350</td>\n",
       "      <td>0.265</td>\n",
       "      <td>0.090</td>\n",
       "      <td>0.2255</td>\n",
       "      <td>7</td>\n",
       "    </tr>\n",
       "    <tr>\n",
       "      <td>2</td>\n",
       "      <td>0.440</td>\n",
       "      <td>0.365</td>\n",
       "      <td>0.125</td>\n",
       "      <td>0.5160</td>\n",
       "      <td>10</td>\n",
       "    </tr>\n",
       "    <tr>\n",
       "      <td>3</td>\n",
       "      <td>0.475</td>\n",
       "      <td>0.370</td>\n",
       "      <td>0.125</td>\n",
       "      <td>0.5095</td>\n",
       "      <td>9</td>\n",
       "    </tr>\n",
       "    <tr>\n",
       "      <td>4</td>\n",
       "      <td>0.430</td>\n",
       "      <td>0.350</td>\n",
       "      <td>0.110</td>\n",
       "      <td>0.4060</td>\n",
       "      <td>10</td>\n",
       "    </tr>\n",
       "    <tr>\n",
       "      <td>...</td>\n",
       "      <td>...</td>\n",
       "      <td>...</td>\n",
       "      <td>...</td>\n",
       "      <td>...</td>\n",
       "      <td>...</td>\n",
       "    </tr>\n",
       "    <tr>\n",
       "      <td>1523</td>\n",
       "      <td>0.550</td>\n",
       "      <td>0.430</td>\n",
       "      <td>0.130</td>\n",
       "      <td>0.8395</td>\n",
       "      <td>10</td>\n",
       "    </tr>\n",
       "    <tr>\n",
       "      <td>1524</td>\n",
       "      <td>0.560</td>\n",
       "      <td>0.430</td>\n",
       "      <td>0.155</td>\n",
       "      <td>0.8675</td>\n",
       "      <td>8</td>\n",
       "    </tr>\n",
       "    <tr>\n",
       "      <td>1525</td>\n",
       "      <td>0.590</td>\n",
       "      <td>0.440</td>\n",
       "      <td>0.135</td>\n",
       "      <td>0.9660</td>\n",
       "      <td>10</td>\n",
       "    </tr>\n",
       "    <tr>\n",
       "      <td>1526</td>\n",
       "      <td>0.600</td>\n",
       "      <td>0.475</td>\n",
       "      <td>0.205</td>\n",
       "      <td>1.1760</td>\n",
       "      <td>9</td>\n",
       "    </tr>\n",
       "    <tr>\n",
       "      <td>1527</td>\n",
       "      <td>0.710</td>\n",
       "      <td>0.555</td>\n",
       "      <td>0.195</td>\n",
       "      <td>1.9485</td>\n",
       "      <td>12</td>\n",
       "    </tr>\n",
       "  </tbody>\n",
       "</table>\n",
       "<p>1528 rows × 5 columns</p>\n",
       "</div>"
      ],
      "text/plain": [
       "      Length  Diameter  Height  Whole Weight  Ring Count\n",
       "0      0.455     0.365   0.095        0.5140          15\n",
       "1      0.350     0.265   0.090        0.2255           7\n",
       "2      0.440     0.365   0.125        0.5160          10\n",
       "3      0.475     0.370   0.125        0.5095           9\n",
       "4      0.430     0.350   0.110        0.4060          10\n",
       "...      ...       ...     ...           ...         ...\n",
       "1523   0.550     0.430   0.130        0.8395          10\n",
       "1524   0.560     0.430   0.155        0.8675           8\n",
       "1525   0.590     0.440   0.135        0.9660          10\n",
       "1526   0.600     0.475   0.205        1.1760           9\n",
       "1527   0.710     0.555   0.195        1.9485          12\n",
       "\n",
       "[1528 rows x 5 columns]"
      ]
     },
     "metadata": {},
     "output_type": "display_data"
    },
    {
     "data": {
      "text/html": [
       "<div>\n",
       "<style scoped>\n",
       "    .dataframe tbody tr th:only-of-type {\n",
       "        vertical-align: middle;\n",
       "    }\n",
       "\n",
       "    .dataframe tbody tr th {\n",
       "        vertical-align: top;\n",
       "    }\n",
       "\n",
       "    .dataframe thead th {\n",
       "        text-align: right;\n",
       "    }\n",
       "</style>\n",
       "<table border=\"1\" class=\"dataframe\">\n",
       "  <thead>\n",
       "    <tr style=\"text-align: right;\">\n",
       "      <th></th>\n",
       "      <th>Length</th>\n",
       "      <th>Diameter</th>\n",
       "      <th>Height</th>\n",
       "      <th>Whole Weight</th>\n",
       "      <th>Ring Count</th>\n",
       "    </tr>\n",
       "  </thead>\n",
       "  <tbody>\n",
       "    <tr>\n",
       "      <td>0</td>\n",
       "      <td>0.530</td>\n",
       "      <td>0.420</td>\n",
       "      <td>0.135</td>\n",
       "      <td>0.6770</td>\n",
       "      <td>9</td>\n",
       "    </tr>\n",
       "    <tr>\n",
       "      <td>1</td>\n",
       "      <td>0.530</td>\n",
       "      <td>0.415</td>\n",
       "      <td>0.150</td>\n",
       "      <td>0.7775</td>\n",
       "      <td>20</td>\n",
       "    </tr>\n",
       "    <tr>\n",
       "      <td>2</td>\n",
       "      <td>0.545</td>\n",
       "      <td>0.425</td>\n",
       "      <td>0.125</td>\n",
       "      <td>0.7680</td>\n",
       "      <td>16</td>\n",
       "    </tr>\n",
       "    <tr>\n",
       "      <td>3</td>\n",
       "      <td>0.550</td>\n",
       "      <td>0.440</td>\n",
       "      <td>0.150</td>\n",
       "      <td>0.8945</td>\n",
       "      <td>19</td>\n",
       "    </tr>\n",
       "    <tr>\n",
       "      <td>4</td>\n",
       "      <td>0.525</td>\n",
       "      <td>0.380</td>\n",
       "      <td>0.140</td>\n",
       "      <td>0.6065</td>\n",
       "      <td>14</td>\n",
       "    </tr>\n",
       "    <tr>\n",
       "      <td>...</td>\n",
       "      <td>...</td>\n",
       "      <td>...</td>\n",
       "      <td>...</td>\n",
       "      <td>...</td>\n",
       "      <td>...</td>\n",
       "    </tr>\n",
       "    <tr>\n",
       "      <td>1302</td>\n",
       "      <td>0.585</td>\n",
       "      <td>0.475</td>\n",
       "      <td>0.165</td>\n",
       "      <td>1.0530</td>\n",
       "      <td>11</td>\n",
       "    </tr>\n",
       "    <tr>\n",
       "      <td>1303</td>\n",
       "      <td>0.585</td>\n",
       "      <td>0.455</td>\n",
       "      <td>0.170</td>\n",
       "      <td>0.9945</td>\n",
       "      <td>11</td>\n",
       "    </tr>\n",
       "    <tr>\n",
       "      <td>1304</td>\n",
       "      <td>0.515</td>\n",
       "      <td>0.400</td>\n",
       "      <td>0.125</td>\n",
       "      <td>0.6150</td>\n",
       "      <td>8</td>\n",
       "    </tr>\n",
       "    <tr>\n",
       "      <td>1305</td>\n",
       "      <td>0.565</td>\n",
       "      <td>0.450</td>\n",
       "      <td>0.165</td>\n",
       "      <td>0.8870</td>\n",
       "      <td>11</td>\n",
       "    </tr>\n",
       "    <tr>\n",
       "      <td>1306</td>\n",
       "      <td>0.625</td>\n",
       "      <td>0.485</td>\n",
       "      <td>0.150</td>\n",
       "      <td>1.0945</td>\n",
       "      <td>10</td>\n",
       "    </tr>\n",
       "  </tbody>\n",
       "</table>\n",
       "<p>1307 rows × 5 columns</p>\n",
       "</div>"
      ],
      "text/plain": [
       "      Length  Diameter  Height  Whole Weight  Ring Count\n",
       "0      0.530     0.420   0.135        0.6770           9\n",
       "1      0.530     0.415   0.150        0.7775          20\n",
       "2      0.545     0.425   0.125        0.7680          16\n",
       "3      0.550     0.440   0.150        0.8945          19\n",
       "4      0.525     0.380   0.140        0.6065          14\n",
       "...      ...       ...     ...           ...         ...\n",
       "1302   0.585     0.475   0.165        1.0530          11\n",
       "1303   0.585     0.455   0.170        0.9945          11\n",
       "1304   0.515     0.400   0.125        0.6150           8\n",
       "1305   0.565     0.450   0.165        0.8870          11\n",
       "1306   0.625     0.485   0.150        1.0945          10\n",
       "\n",
       "[1307 rows x 5 columns]"
      ]
     },
     "metadata": {},
     "output_type": "display_data"
    },
    {
     "data": {
      "text/html": [
       "<div>\n",
       "<style scoped>\n",
       "    .dataframe tbody tr th:only-of-type {\n",
       "        vertical-align: middle;\n",
       "    }\n",
       "\n",
       "    .dataframe tbody tr th {\n",
       "        vertical-align: top;\n",
       "    }\n",
       "\n",
       "    .dataframe thead th {\n",
       "        text-align: right;\n",
       "    }\n",
       "</style>\n",
       "<table border=\"1\" class=\"dataframe\">\n",
       "  <thead>\n",
       "    <tr style=\"text-align: right;\">\n",
       "      <th></th>\n",
       "      <th>Length</th>\n",
       "      <th>Diameter</th>\n",
       "      <th>Height</th>\n",
       "      <th>Whole Weight</th>\n",
       "      <th>Ring Count</th>\n",
       "    </tr>\n",
       "  </thead>\n",
       "  <tbody>\n",
       "    <tr>\n",
       "      <td>0</td>\n",
       "      <td>0.330</td>\n",
       "      <td>0.255</td>\n",
       "      <td>0.080</td>\n",
       "      <td>0.2050</td>\n",
       "      <td>7</td>\n",
       "    </tr>\n",
       "    <tr>\n",
       "      <td>1</td>\n",
       "      <td>0.425</td>\n",
       "      <td>0.300</td>\n",
       "      <td>0.095</td>\n",
       "      <td>0.3515</td>\n",
       "      <td>8</td>\n",
       "    </tr>\n",
       "    <tr>\n",
       "      <td>2</td>\n",
       "      <td>0.355</td>\n",
       "      <td>0.280</td>\n",
       "      <td>0.085</td>\n",
       "      <td>0.2905</td>\n",
       "      <td>7</td>\n",
       "    </tr>\n",
       "    <tr>\n",
       "      <td>3</td>\n",
       "      <td>0.380</td>\n",
       "      <td>0.275</td>\n",
       "      <td>0.100</td>\n",
       "      <td>0.2255</td>\n",
       "      <td>10</td>\n",
       "    </tr>\n",
       "    <tr>\n",
       "      <td>4</td>\n",
       "      <td>0.240</td>\n",
       "      <td>0.175</td>\n",
       "      <td>0.045</td>\n",
       "      <td>0.0700</td>\n",
       "      <td>5</td>\n",
       "    </tr>\n",
       "    <tr>\n",
       "      <td>...</td>\n",
       "      <td>...</td>\n",
       "      <td>...</td>\n",
       "      <td>...</td>\n",
       "      <td>...</td>\n",
       "      <td>...</td>\n",
       "    </tr>\n",
       "    <tr>\n",
       "      <td>1337</td>\n",
       "      <td>0.480</td>\n",
       "      <td>0.355</td>\n",
       "      <td>0.110</td>\n",
       "      <td>0.4495</td>\n",
       "      <td>8</td>\n",
       "    </tr>\n",
       "    <tr>\n",
       "      <td>1338</td>\n",
       "      <td>0.390</td>\n",
       "      <td>0.310</td>\n",
       "      <td>0.085</td>\n",
       "      <td>0.3440</td>\n",
       "      <td>7</td>\n",
       "    </tr>\n",
       "    <tr>\n",
       "      <td>1339</td>\n",
       "      <td>0.390</td>\n",
       "      <td>0.290</td>\n",
       "      <td>0.100</td>\n",
       "      <td>0.2845</td>\n",
       "      <td>7</td>\n",
       "    </tr>\n",
       "    <tr>\n",
       "      <td>1340</td>\n",
       "      <td>0.405</td>\n",
       "      <td>0.300</td>\n",
       "      <td>0.085</td>\n",
       "      <td>0.3035</td>\n",
       "      <td>7</td>\n",
       "    </tr>\n",
       "    <tr>\n",
       "      <td>1341</td>\n",
       "      <td>0.475</td>\n",
       "      <td>0.365</td>\n",
       "      <td>0.115</td>\n",
       "      <td>0.4990</td>\n",
       "      <td>10</td>\n",
       "    </tr>\n",
       "  </tbody>\n",
       "</table>\n",
       "<p>1342 rows × 5 columns</p>\n",
       "</div>"
      ],
      "text/plain": [
       "      Length  Diameter  Height  Whole Weight  Ring Count\n",
       "0      0.330     0.255   0.080        0.2050           7\n",
       "1      0.425     0.300   0.095        0.3515           8\n",
       "2      0.355     0.280   0.085        0.2905           7\n",
       "3      0.380     0.275   0.100        0.2255          10\n",
       "4      0.240     0.175   0.045        0.0700           5\n",
       "...      ...       ...     ...           ...         ...\n",
       "1337   0.480     0.355   0.110        0.4495           8\n",
       "1338   0.390     0.310   0.085        0.3440           7\n",
       "1339   0.390     0.290   0.100        0.2845           7\n",
       "1340   0.405     0.300   0.085        0.3035           7\n",
       "1341   0.475     0.365   0.115        0.4990          10\n",
       "\n",
       "[1342 rows x 5 columns]"
      ]
     },
     "metadata": {},
     "output_type": "display_data"
    }
   ],
   "source": [
    "# Import the .data file into a dataframe with column headers listed below.\n",
    "Aba_data = pd.read_csv(\"abalone.data\", names = ['Sex', 'Length', 'Diameter', 'Height', 'Whole Weight', 'Shucked Weight', 'Viscera Weight', 'Shell Weight','Ring Count'])\n",
    "\n",
    "#display(Aba_data)\n",
    "\n",
    "# Next step is to seperate the male, female, and infant abalone data to minimize confounding factors. \n",
    "# Invoking the \"df.loc\" method to return the seperated abalone data based on sex to their new corresponding dataframes.  \n",
    "Aba_data_male = Aba_data.loc[Aba_data['Sex'] == 'M']\n",
    "Aba_data_female = Aba_data.loc[Aba_data['Sex'] == 'F']  \n",
    "Aba_data_inf = Aba_data.loc[Aba_data['Sex'] == 'I']\n",
    "\n",
    "# Dropping the \"Sex\" column within their respective dataframes to reduce redundant information.\n",
    "Aba_data_male = Aba_data_male.drop(['Sex'], axis = 1)\n",
    "Aba_data_female = Aba_data_female.drop(['Sex'], axis = 1)\n",
    "Aba_data_inf = Aba_data_inf.drop(['Sex'], axis = 1)\n",
    "\n",
    "# Resetting index starting at 0 enumerating until the last data point within respective dataframes making sure to not include the old segmented indices.\n",
    "Aba_data_male = Aba_data_male.reset_index(drop = True)\n",
    "Aba_data_female = Aba_data_female.reset_index(drop = True)\n",
    "Aba_data_inf = Aba_data_inf.reset_index(drop = True)\n",
    "\n",
    "# Non-destructive measurements are length, height, diameter, and weight. Removing the shucked, viscera, and shell weight data.\n",
    "# Keeping the ring count for future use.\n",
    "Aba_data_male = Aba_data_male.drop(['Shucked Weight', 'Viscera Weight', 'Shell Weight'], axis = 1)\n",
    "Aba_data_female = Aba_data_female.drop(['Shucked Weight', 'Viscera Weight', 'Shell Weight'], axis = 1)\n",
    "Aba_data_inf = Aba_data_inf.drop(['Shucked Weight', 'Viscera Weight', 'Shell Weight'], axis = 1)\n",
    "\n",
    "display(Aba_data_male, Aba_data_female, Aba_data_inf)\n"
   ]
  },
  {
   "cell_type": "markdown",
   "metadata": {},
   "source": [
    "## Descriptive Statistics for Length, Diameter, Height, Whole Weight, and Ring Count\n",
    "\n",
    "Calculate sample mean, sample variance, interquartile range, and correlation coefficient for predictor variables and response variable for each dataframe."
   ]
  },
  {
   "cell_type": "code",
   "execution_count": 13,
   "metadata": {},
   "outputs": [
    {
     "name": "stdout",
     "output_type": "stream",
     "text": [
      "1528 1307 1342\n"
     ]
    }
   ],
   "source": [
    "# To calculate the descriptive statistics and more, the number of observations is needed. Here I'm invoking the \"len(df)\" method on each dataframe to their respective number of observations.\n",
    "n_male = len(Aba_data_male)\n",
    "n_female = len(Aba_data_female)\n",
    "n_inf = len(Aba_data_inf)\n",
    "\n",
    "print(n_male, n_female, n_inf) "
   ]
  },
  {
   "cell_type": "markdown",
   "metadata": {},
   "source": [
    "#### Sample Mean for Length, Diameter, Height, Whole Weight, and Ring Count."
   ]
  },
  {
   "cell_type": "code",
   "execution_count": 25,
   "metadata": {},
   "outputs": [
    {
     "data": {
      "text/plain": [
       "Length           0.561391\n",
       "Diameter         0.439287\n",
       "Height           0.151381\n",
       "Whole Weight     0.991459\n",
       "Ring Count      10.705497\n",
       "dtype: float64"
      ]
     },
     "metadata": {},
     "output_type": "display_data"
    },
    {
     "data": {
      "text/plain": [
       "Length           0.579093\n",
       "Diameter         0.454732\n",
       "Height           0.158011\n",
       "Whole Weight     1.046532\n",
       "Ring Count      11.129304\n",
       "dtype: float64"
      ]
     },
     "metadata": {},
     "output_type": "display_data"
    },
    {
     "data": {
      "text/plain": [
       "Length          0.427746\n",
       "Diameter        0.326494\n",
       "Height          0.107996\n",
       "Whole Weight    0.431363\n",
       "Ring Count      7.890462\n",
       "dtype: float64"
      ]
     },
     "metadata": {},
     "output_type": "display_data"
    }
   ],
   "source": [
    "# Incredibly easy method to invoke is the \"df.mean()\".\n",
    "# Returns the mean of each column as a Panda Series.\n",
    "\n",
    "Aba_data_male_mean = Aba_data_male.mean(axis = 0)\n",
    "Aba_data_female_mean = Aba_data_female.mean(axis = 0)\n",
    "Aba_data_inf_mean = Aba_data_inf.mean(axis = 0)\n",
    "\n",
    "display(Aba_data_male_mean, Aba_data_female_mean, Aba_data_inf_mean) \n"
   ]
  },
  {
   "cell_type": "markdown",
   "metadata": {},
   "source": [
    "#### Sample standard deviation for Length, Diameter, Height, Whole Weight, and Ring Count."
   ]
  },
  {
   "cell_type": "code",
   "execution_count": 30,
   "metadata": {},
   "outputs": [
    {
     "data": {
      "text/plain": [
       "Length          0.102697\n",
       "Diameter        0.084398\n",
       "Height          0.034804\n",
       "Whole Weight    0.470581\n",
       "Ring Count      3.026349\n",
       "dtype: float64"
      ]
     },
     "metadata": {},
     "output_type": "display_data"
    },
    {
     "data": {
      "text/plain": [
       "Length          0.086160\n",
       "Diameter        0.070954\n",
       "Height          0.039984\n",
       "Whole Weight    0.430316\n",
       "Ring Count      3.104256\n",
       "dtype: float64"
      ]
     },
     "metadata": {},
     "output_type": "display_data"
    },
    {
     "data": {
      "text/plain": [
       "Length          0.108858\n",
       "Diameter        0.088109\n",
       "Height          0.031995\n",
       "Whole Weight    0.286275\n",
       "Ring Count      2.511554\n",
       "dtype: float64"
      ]
     },
     "metadata": {},
     "output_type": "display_data"
    }
   ],
   "source": [
    "Aba_data_male_std = Aba_data_male.std(axis = 0)\n",
    "Aba_data_female_std = Aba_data_female.std(axis = 0)\n",
    "Aba_data_inf_std = Aba_data_inf.std(axis = 0)\n",
    "\n",
    "display(Aba_data_male_std, Aba_data_female_std, Aba_data_inf_std) "
   ]
  },
  {
   "cell_type": "markdown",
   "metadata": {},
   "source": [
    "#### Sample variance for Length, Diameter, Height, Whole Weight, and Ring Count."
   ]
  },
  {
   "cell_type": "code",
   "execution_count": 29,
   "metadata": {},
   "outputs": [
    {
     "data": {
      "text/plain": [
       "Length          0.010547\n",
       "Diameter        0.007123\n",
       "Height          0.001211\n",
       "Whole Weight    0.221447\n",
       "Ring Count      9.158791\n",
       "dtype: float64"
      ]
     },
     "metadata": {},
     "output_type": "display_data"
    },
    {
     "data": {
      "text/plain": [
       "Length          0.007423\n",
       "Diameter        0.005034\n",
       "Height          0.001599\n",
       "Whole Weight    0.185172\n",
       "Ring Count      9.636407\n",
       "dtype: float64"
      ]
     },
     "metadata": {},
     "output_type": "display_data"
    },
    {
     "data": {
      "text/plain": [
       "Length          0.011850\n",
       "Diameter        0.007763\n",
       "Height          0.001024\n",
       "Whole Weight    0.081953\n",
       "Ring Count      6.307903\n",
       "dtype: float64"
      ]
     },
     "metadata": {},
     "output_type": "display_data"
    }
   ],
   "source": [
    "Aba_data_male_var = np.power(Aba_data_male_std, 2)\n",
    "Aba_data_female_var = np.power(Aba_data_female_std, 2)\n",
    "Aba_data_inf_var = np.power(Aba_data_inf_std, 2)\n",
    "\n",
    "display(Aba_data_male_var, Aba_data_female_var, Aba_data_inf_var )"
   ]
  },
  {
   "cell_type": "markdown",
   "metadata": {},
   "source": [
    "#### First Quartile, Median (Second Quartile), Third Quartile, and Interquartile Range with Outliers."
   ]
  },
  {
   "cell_type": "code",
   "execution_count": null,
   "metadata": {},
   "outputs": [],
   "source": []
  }
 ],
 "metadata": {
  "kernelspec": {
   "display_name": "Python 3",
   "language": "python",
   "name": "python3"
  },
  "language_info": {
   "codemirror_mode": {
    "name": "ipython",
    "version": 3
   },
   "file_extension": ".py",
   "mimetype": "text/x-python",
   "name": "python",
   "nbconvert_exporter": "python",
   "pygments_lexer": "ipython3",
   "version": "3.7.4"
  }
 },
 "nbformat": 4,
 "nbformat_minor": 2
}

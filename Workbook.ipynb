{
 "cells": [
  {
   "cell_type": "markdown",
   "metadata": {},
   "source": [
    "## Python Libraries Used Within Workbook"
   ]
  },
  {
   "cell_type": "code",
   "execution_count": 1,
   "metadata": {},
   "outputs": [],
   "source": [
    "import seaborn as sns\n",
    "import numpy as np\n",
    "import pandas as pd\n",
    "import scipy\n",
    "import scipy.linalg as la\n",
    "import scipy.stats as st\n",
    "import math\n",
    "import matplotlib\n",
    "import matplotlib.pyplot as plt\n",
    "import statsmodels.api as sm"
   ]
  },
  {
   "cell_type": "markdown",
   "metadata": {},
   "source": [
    "## Project Focus:\n",
    "Fit a regression line to the provided data to estimate abalone age based on non-destructive physical attributes. \n",
    "<br>\n",
    "Provide reasoning for multivariate techniques as well as assumptions on what makes them valid to use.\n",
    "\n",
    "## Credentials\n",
    "\n",
    "Data comes from an original study:\n",
    "\n",
    "\tWarwick J Nash, Tracy L Sellers, Simon R Talbot, Andrew J Cawthorn and\n",
    "\tWes B Ford (1994) \"The Population Biology of Abalone (_Haliotis_\n",
    "\tspecies) in Tasmania. I. Blacklip Abalone (_H. rubra_) from the North\n",
    "\tCoast and Islands of Bass Strait\", Sea Fisheries Division, Technical\n",
    "\tReport No. 48 (ISSN 1034-3288)\n",
    "    \n",
    "Original owners of data:\n",
    "    \n",
    "\tMarine Resources Division\n",
    "\tMarine Research Laboratories - Taroona\n",
    "\tDepartment of Primary Industry and Fisheries, Tasmania\n",
    "\tGPO Box 619F, Hobart, Tasmania 7001, Australia\n",
    "\t(contact: Warwick Nash +61 02 277277, wnash@dpi.tas.gov.au)"
   ]
  },
  {
   "cell_type": "markdown",
   "metadata": {},
   "source": [
    "## Cleaning Data\n",
    "\n",
    "Attribute information:\n",
    "The attributes have been scaled by 1/200 for their previous applications in ANN (artifical neural networks).\n",
    "\n",
    "| Variable  | Data Type | Units | Description |\n",
    "| :--- | :--- | :--- | :--- |\n",
    "| Sex | Ordinal |\tM, F, I | M = male, F = female, I = infant |\n",
    "| Length | Continuous |\tmm | longest shell measurement |\n",
    "| Diameter | Continuous | mm | perpendicular to length |\n",
    "| Height | Continuous | mm | with meat in shell |\n",
    "| Whole weight | Continuous | grams | whole abalone |\n",
    "| Shucked weight | Continuous | grams |weight of meat |\n",
    "| Viscera weight | Continuous | grams | gut weight (after bleeding) |\n",
    "| Shell weight | Continuous | grams | after being dried |\n",
    "| Rings | Integer | | +1.5 gives the age in years |\n",
    "\n",
    "   \n",
    "\n"
   ]
  },
  {
   "cell_type": "code",
   "execution_count": 2,
   "metadata": {},
   "outputs": [
    {
     "data": {
      "text/html": [
       "<div>\n",
       "<style scoped>\n",
       "    .dataframe tbody tr th:only-of-type {\n",
       "        vertical-align: middle;\n",
       "    }\n",
       "\n",
       "    .dataframe tbody tr th {\n",
       "        vertical-align: top;\n",
       "    }\n",
       "\n",
       "    .dataframe thead th {\n",
       "        text-align: right;\n",
       "    }\n",
       "</style>\n",
       "<table border=\"1\" class=\"dataframe\">\n",
       "  <thead>\n",
       "    <tr style=\"text-align: right;\">\n",
       "      <th></th>\n",
       "      <th>Length</th>\n",
       "      <th>Diameter</th>\n",
       "      <th>Height</th>\n",
       "      <th>Whole Weight</th>\n",
       "      <th>Ring Count</th>\n",
       "    </tr>\n",
       "  </thead>\n",
       "  <tbody>\n",
       "    <tr>\n",
       "      <td>0</td>\n",
       "      <td>91.0</td>\n",
       "      <td>73.0</td>\n",
       "      <td>19.0</td>\n",
       "      <td>102.8</td>\n",
       "      <td>15</td>\n",
       "    </tr>\n",
       "    <tr>\n",
       "      <td>1</td>\n",
       "      <td>70.0</td>\n",
       "      <td>53.0</td>\n",
       "      <td>18.0</td>\n",
       "      <td>45.1</td>\n",
       "      <td>7</td>\n",
       "    </tr>\n",
       "    <tr>\n",
       "      <td>2</td>\n",
       "      <td>88.0</td>\n",
       "      <td>73.0</td>\n",
       "      <td>25.0</td>\n",
       "      <td>103.2</td>\n",
       "      <td>10</td>\n",
       "    </tr>\n",
       "    <tr>\n",
       "      <td>3</td>\n",
       "      <td>95.0</td>\n",
       "      <td>74.0</td>\n",
       "      <td>25.0</td>\n",
       "      <td>101.9</td>\n",
       "      <td>9</td>\n",
       "    </tr>\n",
       "    <tr>\n",
       "      <td>4</td>\n",
       "      <td>86.0</td>\n",
       "      <td>70.0</td>\n",
       "      <td>22.0</td>\n",
       "      <td>81.2</td>\n",
       "      <td>10</td>\n",
       "    </tr>\n",
       "    <tr>\n",
       "      <td>...</td>\n",
       "      <td>...</td>\n",
       "      <td>...</td>\n",
       "      <td>...</td>\n",
       "      <td>...</td>\n",
       "      <td>...</td>\n",
       "    </tr>\n",
       "    <tr>\n",
       "      <td>1523</td>\n",
       "      <td>110.0</td>\n",
       "      <td>86.0</td>\n",
       "      <td>26.0</td>\n",
       "      <td>167.9</td>\n",
       "      <td>10</td>\n",
       "    </tr>\n",
       "    <tr>\n",
       "      <td>1524</td>\n",
       "      <td>112.0</td>\n",
       "      <td>86.0</td>\n",
       "      <td>31.0</td>\n",
       "      <td>173.5</td>\n",
       "      <td>8</td>\n",
       "    </tr>\n",
       "    <tr>\n",
       "      <td>1525</td>\n",
       "      <td>118.0</td>\n",
       "      <td>88.0</td>\n",
       "      <td>27.0</td>\n",
       "      <td>193.2</td>\n",
       "      <td>10</td>\n",
       "    </tr>\n",
       "    <tr>\n",
       "      <td>1526</td>\n",
       "      <td>120.0</td>\n",
       "      <td>95.0</td>\n",
       "      <td>41.0</td>\n",
       "      <td>235.2</td>\n",
       "      <td>9</td>\n",
       "    </tr>\n",
       "    <tr>\n",
       "      <td>1527</td>\n",
       "      <td>142.0</td>\n",
       "      <td>111.0</td>\n",
       "      <td>39.0</td>\n",
       "      <td>389.7</td>\n",
       "      <td>12</td>\n",
       "    </tr>\n",
       "  </tbody>\n",
       "</table>\n",
       "<p>1528 rows × 5 columns</p>\n",
       "</div>"
      ],
      "text/plain": [
       "      Length  Diameter  Height  Whole Weight  Ring Count\n",
       "0       91.0      73.0    19.0         102.8          15\n",
       "1       70.0      53.0    18.0          45.1           7\n",
       "2       88.0      73.0    25.0         103.2          10\n",
       "3       95.0      74.0    25.0         101.9           9\n",
       "4       86.0      70.0    22.0          81.2          10\n",
       "...      ...       ...     ...           ...         ...\n",
       "1523   110.0      86.0    26.0         167.9          10\n",
       "1524   112.0      86.0    31.0         173.5           8\n",
       "1525   118.0      88.0    27.0         193.2          10\n",
       "1526   120.0      95.0    41.0         235.2           9\n",
       "1527   142.0     111.0    39.0         389.7          12\n",
       "\n",
       "[1528 rows x 5 columns]"
      ]
     },
     "metadata": {},
     "output_type": "display_data"
    },
    {
     "data": {
      "text/html": [
       "<div>\n",
       "<style scoped>\n",
       "    .dataframe tbody tr th:only-of-type {\n",
       "        vertical-align: middle;\n",
       "    }\n",
       "\n",
       "    .dataframe tbody tr th {\n",
       "        vertical-align: top;\n",
       "    }\n",
       "\n",
       "    .dataframe thead th {\n",
       "        text-align: right;\n",
       "    }\n",
       "</style>\n",
       "<table border=\"1\" class=\"dataframe\">\n",
       "  <thead>\n",
       "    <tr style=\"text-align: right;\">\n",
       "      <th></th>\n",
       "      <th>Length</th>\n",
       "      <th>Diameter</th>\n",
       "      <th>Height</th>\n",
       "      <th>Whole Weight</th>\n",
       "      <th>Ring Count</th>\n",
       "    </tr>\n",
       "  </thead>\n",
       "  <tbody>\n",
       "    <tr>\n",
       "      <td>0</td>\n",
       "      <td>106.0</td>\n",
       "      <td>84.0</td>\n",
       "      <td>27.0</td>\n",
       "      <td>135.4</td>\n",
       "      <td>9</td>\n",
       "    </tr>\n",
       "    <tr>\n",
       "      <td>1</td>\n",
       "      <td>106.0</td>\n",
       "      <td>83.0</td>\n",
       "      <td>30.0</td>\n",
       "      <td>155.5</td>\n",
       "      <td>20</td>\n",
       "    </tr>\n",
       "    <tr>\n",
       "      <td>2</td>\n",
       "      <td>109.0</td>\n",
       "      <td>85.0</td>\n",
       "      <td>25.0</td>\n",
       "      <td>153.6</td>\n",
       "      <td>16</td>\n",
       "    </tr>\n",
       "    <tr>\n",
       "      <td>3</td>\n",
       "      <td>110.0</td>\n",
       "      <td>88.0</td>\n",
       "      <td>30.0</td>\n",
       "      <td>178.9</td>\n",
       "      <td>19</td>\n",
       "    </tr>\n",
       "    <tr>\n",
       "      <td>4</td>\n",
       "      <td>105.0</td>\n",
       "      <td>76.0</td>\n",
       "      <td>28.0</td>\n",
       "      <td>121.3</td>\n",
       "      <td>14</td>\n",
       "    </tr>\n",
       "    <tr>\n",
       "      <td>...</td>\n",
       "      <td>...</td>\n",
       "      <td>...</td>\n",
       "      <td>...</td>\n",
       "      <td>...</td>\n",
       "      <td>...</td>\n",
       "    </tr>\n",
       "    <tr>\n",
       "      <td>1302</td>\n",
       "      <td>117.0</td>\n",
       "      <td>95.0</td>\n",
       "      <td>33.0</td>\n",
       "      <td>210.6</td>\n",
       "      <td>11</td>\n",
       "    </tr>\n",
       "    <tr>\n",
       "      <td>1303</td>\n",
       "      <td>117.0</td>\n",
       "      <td>91.0</td>\n",
       "      <td>34.0</td>\n",
       "      <td>198.9</td>\n",
       "      <td>11</td>\n",
       "    </tr>\n",
       "    <tr>\n",
       "      <td>1304</td>\n",
       "      <td>103.0</td>\n",
       "      <td>80.0</td>\n",
       "      <td>25.0</td>\n",
       "      <td>123.0</td>\n",
       "      <td>8</td>\n",
       "    </tr>\n",
       "    <tr>\n",
       "      <td>1305</td>\n",
       "      <td>113.0</td>\n",
       "      <td>90.0</td>\n",
       "      <td>33.0</td>\n",
       "      <td>177.4</td>\n",
       "      <td>11</td>\n",
       "    </tr>\n",
       "    <tr>\n",
       "      <td>1306</td>\n",
       "      <td>125.0</td>\n",
       "      <td>97.0</td>\n",
       "      <td>30.0</td>\n",
       "      <td>218.9</td>\n",
       "      <td>10</td>\n",
       "    </tr>\n",
       "  </tbody>\n",
       "</table>\n",
       "<p>1307 rows × 5 columns</p>\n",
       "</div>"
      ],
      "text/plain": [
       "      Length  Diameter  Height  Whole Weight  Ring Count\n",
       "0      106.0      84.0    27.0         135.4           9\n",
       "1      106.0      83.0    30.0         155.5          20\n",
       "2      109.0      85.0    25.0         153.6          16\n",
       "3      110.0      88.0    30.0         178.9          19\n",
       "4      105.0      76.0    28.0         121.3          14\n",
       "...      ...       ...     ...           ...         ...\n",
       "1302   117.0      95.0    33.0         210.6          11\n",
       "1303   117.0      91.0    34.0         198.9          11\n",
       "1304   103.0      80.0    25.0         123.0           8\n",
       "1305   113.0      90.0    33.0         177.4          11\n",
       "1306   125.0      97.0    30.0         218.9          10\n",
       "\n",
       "[1307 rows x 5 columns]"
      ]
     },
     "metadata": {},
     "output_type": "display_data"
    },
    {
     "data": {
      "text/html": [
       "<div>\n",
       "<style scoped>\n",
       "    .dataframe tbody tr th:only-of-type {\n",
       "        vertical-align: middle;\n",
       "    }\n",
       "\n",
       "    .dataframe tbody tr th {\n",
       "        vertical-align: top;\n",
       "    }\n",
       "\n",
       "    .dataframe thead th {\n",
       "        text-align: right;\n",
       "    }\n",
       "</style>\n",
       "<table border=\"1\" class=\"dataframe\">\n",
       "  <thead>\n",
       "    <tr style=\"text-align: right;\">\n",
       "      <th></th>\n",
       "      <th>Length</th>\n",
       "      <th>Diameter</th>\n",
       "      <th>Height</th>\n",
       "      <th>Whole Weight</th>\n",
       "      <th>Ring Count</th>\n",
       "    </tr>\n",
       "  </thead>\n",
       "  <tbody>\n",
       "    <tr>\n",
       "      <td>0</td>\n",
       "      <td>66.0</td>\n",
       "      <td>51.0</td>\n",
       "      <td>16.0</td>\n",
       "      <td>41.0</td>\n",
       "      <td>7</td>\n",
       "    </tr>\n",
       "    <tr>\n",
       "      <td>1</td>\n",
       "      <td>85.0</td>\n",
       "      <td>60.0</td>\n",
       "      <td>19.0</td>\n",
       "      <td>70.3</td>\n",
       "      <td>8</td>\n",
       "    </tr>\n",
       "    <tr>\n",
       "      <td>2</td>\n",
       "      <td>71.0</td>\n",
       "      <td>56.0</td>\n",
       "      <td>17.0</td>\n",
       "      <td>58.1</td>\n",
       "      <td>7</td>\n",
       "    </tr>\n",
       "    <tr>\n",
       "      <td>3</td>\n",
       "      <td>76.0</td>\n",
       "      <td>55.0</td>\n",
       "      <td>20.0</td>\n",
       "      <td>45.1</td>\n",
       "      <td>10</td>\n",
       "    </tr>\n",
       "    <tr>\n",
       "      <td>4</td>\n",
       "      <td>48.0</td>\n",
       "      <td>35.0</td>\n",
       "      <td>9.0</td>\n",
       "      <td>14.0</td>\n",
       "      <td>5</td>\n",
       "    </tr>\n",
       "    <tr>\n",
       "      <td>...</td>\n",
       "      <td>...</td>\n",
       "      <td>...</td>\n",
       "      <td>...</td>\n",
       "      <td>...</td>\n",
       "      <td>...</td>\n",
       "    </tr>\n",
       "    <tr>\n",
       "      <td>1337</td>\n",
       "      <td>96.0</td>\n",
       "      <td>71.0</td>\n",
       "      <td>22.0</td>\n",
       "      <td>89.9</td>\n",
       "      <td>8</td>\n",
       "    </tr>\n",
       "    <tr>\n",
       "      <td>1338</td>\n",
       "      <td>78.0</td>\n",
       "      <td>62.0</td>\n",
       "      <td>17.0</td>\n",
       "      <td>68.8</td>\n",
       "      <td>7</td>\n",
       "    </tr>\n",
       "    <tr>\n",
       "      <td>1339</td>\n",
       "      <td>78.0</td>\n",
       "      <td>58.0</td>\n",
       "      <td>20.0</td>\n",
       "      <td>56.9</td>\n",
       "      <td>7</td>\n",
       "    </tr>\n",
       "    <tr>\n",
       "      <td>1340</td>\n",
       "      <td>81.0</td>\n",
       "      <td>60.0</td>\n",
       "      <td>17.0</td>\n",
       "      <td>60.7</td>\n",
       "      <td>7</td>\n",
       "    </tr>\n",
       "    <tr>\n",
       "      <td>1341</td>\n",
       "      <td>95.0</td>\n",
       "      <td>73.0</td>\n",
       "      <td>23.0</td>\n",
       "      <td>99.8</td>\n",
       "      <td>10</td>\n",
       "    </tr>\n",
       "  </tbody>\n",
       "</table>\n",
       "<p>1342 rows × 5 columns</p>\n",
       "</div>"
      ],
      "text/plain": [
       "      Length  Diameter  Height  Whole Weight  Ring Count\n",
       "0       66.0      51.0    16.0          41.0           7\n",
       "1       85.0      60.0    19.0          70.3           8\n",
       "2       71.0      56.0    17.0          58.1           7\n",
       "3       76.0      55.0    20.0          45.1          10\n",
       "4       48.0      35.0     9.0          14.0           5\n",
       "...      ...       ...     ...           ...         ...\n",
       "1337    96.0      71.0    22.0          89.9           8\n",
       "1338    78.0      62.0    17.0          68.8           7\n",
       "1339    78.0      58.0    20.0          56.9           7\n",
       "1340    81.0      60.0    17.0          60.7           7\n",
       "1341    95.0      73.0    23.0          99.8          10\n",
       "\n",
       "[1342 rows x 5 columns]"
      ]
     },
     "metadata": {},
     "output_type": "display_data"
    }
   ],
   "source": [
    "# Import the .data file into a dataframe with column headers listed below.\n",
    "Aba_data = pd.read_csv(\"abalone.data\", names = ['Sex', 'Length', 'Diameter', 'Height', 'Whole Weight', 'Shucked Weight', 'Viscera Weight', 'Shell Weight','Ring Count'])\n",
    "\n",
    "# Next step is to seperate the male, female, and infant abalone data to minimize confounding factors. \n",
    "# Invoking the \"df.loc\" method to return the seperated abalone data based on sex to their new corresponding dataframes.  \n",
    "Aba_data_male = Aba_data.loc[Aba_data['Sex'] == 'M']\n",
    "Aba_data_female = Aba_data.loc[Aba_data['Sex'] == 'F']  \n",
    "Aba_data_inf = Aba_data.loc[Aba_data['Sex'] == 'I']\n",
    "\n",
    "# Dropping the \"Sex\" column within their respective dataframes to reduce redundant information.\n",
    "Aba_data_male = Aba_data_male.drop(['Sex'], axis = 1)\n",
    "Aba_data_female = Aba_data_female.drop(['Sex'], axis = 1)\n",
    "Aba_data_inf = Aba_data_inf.drop(['Sex'], axis = 1)\n",
    "\n",
    "# Resetting index starting at 0 enumerating until the last data point within respective dataframes making sure to not include the old segmented indices.\n",
    "Aba_data_male = Aba_data_male.reset_index(drop = True)\n",
    "Aba_data_female = Aba_data_female.reset_index(drop = True)\n",
    "Aba_data_inf = Aba_data_inf.reset_index(drop = True)\n",
    "\n",
    "# Non-destructive measurements are length, height, diameter, and weight. Removing the shucked, viscera, and shell weight data.\n",
    "# Keeping the ring count as response variable.\n",
    "Aba_data_male = Aba_data_male.drop(['Shucked Weight', 'Viscera Weight', 'Shell Weight'], axis = 1)\n",
    "Aba_data_female = Aba_data_female.drop(['Shucked Weight', 'Viscera Weight', 'Shell Weight'], axis = 1)\n",
    "Aba_data_inf = Aba_data_inf.drop(['Shucked Weight', 'Viscera Weight', 'Shell Weight'], axis = 1)\n",
    "\n",
    "pred_col = ['Length', 'Diameter', 'Height', 'Whole Weight']\n",
    "\n",
    "# Scaling up by 200 to restore the original values.\n",
    "for col in pred_col:\n",
    "    Aba_data_male[col] = Aba_data_male[col] * 200\n",
    "    Aba_data_female[col] = Aba_data_female[col] * 200\n",
    "    Aba_data_inf[col] = Aba_data_inf[col] * 200\n",
    "    \n",
    "display(Aba_data_male, Aba_data_female, Aba_data_inf)"
   ]
  },
  {
   "cell_type": "markdown",
   "metadata": {},
   "source": [
    "## Descriptive Statistics for Length, Diameter, Height, Whole Weight, and Ring Count\n",
    "\n",
    "Calculate sample mean, sample variance, interquartile range, and correlation coefficient for physical attribute variables."
   ]
  },
  {
   "cell_type": "markdown",
   "metadata": {},
   "source": [
    "#### Sample Mean for Length, Diameter, Height, Whole Weight, and Ring Count."
   ]
  },
  {
   "cell_type": "code",
   "execution_count": 3,
   "metadata": {},
   "outputs": [
    {
     "data": {
      "text/plain": [
       "Length          112.278141\n",
       "Diameter         87.857330\n",
       "Height           30.276178\n",
       "Whole Weight    198.291885\n",
       "Ring Count       10.705497\n",
       "dtype: float64"
      ]
     },
     "metadata": {},
     "output_type": "display_data"
    },
    {
     "data": {
      "text/plain": [
       "Length          115.818669\n",
       "Diameter         90.946442\n",
       "Height           31.602142\n",
       "Whole Weight    209.306427\n",
       "Ring Count       11.129304\n",
       "dtype: float64"
      ]
     },
     "metadata": {},
     "output_type": "display_data"
    },
    {
     "data": {
      "text/plain": [
       "Length          85.549180\n",
       "Diameter        65.298808\n",
       "Height          21.599106\n",
       "Whole Weight    86.272504\n",
       "Ring Count       7.890462\n",
       "dtype: float64"
      ]
     },
     "metadata": {},
     "output_type": "display_data"
    }
   ],
   "source": [
    "# Incredibly easy method to invoke is the \"df.mean()\".\n",
    "# Returns the mean of each column as a Panda Series.\n",
    "Aba_data_male_mean = Aba_data_male.mean(axis = 0)\n",
    "Aba_data_female_mean = Aba_data_female.mean(axis = 0)\n",
    "Aba_data_inf_mean = Aba_data_inf.mean(axis = 0)\n",
    "\n",
    "display(Aba_data_male_mean, Aba_data_female_mean, Aba_data_inf_mean) \n"
   ]
  },
  {
   "cell_type": "markdown",
   "metadata": {},
   "source": [
    "#### Sample standard deviation for Length, Diameter, Height, Whole Weight, and Ring Count."
   ]
  },
  {
   "cell_type": "code",
   "execution_count": 4,
   "metadata": {},
   "outputs": [
    {
     "data": {
      "text/plain": [
       "Length          20.539463\n",
       "Diameter        16.879613\n",
       "Height           6.960900\n",
       "Whole Weight    94.116275\n",
       "Ring Count       3.026349\n",
       "dtype: float64"
      ]
     },
     "metadata": {},
     "output_type": "display_data"
    },
    {
     "data": {
      "text/plain": [
       "Length          17.231911\n",
       "Diameter        14.190841\n",
       "Height           7.996798\n",
       "Whole Weight    86.063263\n",
       "Ring Count       3.104256\n",
       "dtype: float64"
      ]
     },
     "metadata": {},
     "output_type": "display_data"
    },
    {
     "data": {
      "text/plain": [
       "Length          21.771545\n",
       "Diameter        17.621786\n",
       "Height           6.399007\n",
       "Whole Weight    57.254932\n",
       "Ring Count       2.511554\n",
       "dtype: float64"
      ]
     },
     "metadata": {},
     "output_type": "display_data"
    }
   ],
   "source": [
    "# Using a similar method but for standard deviation, \"df.std()\".\n",
    "Aba_data_male_std = Aba_data_male.std(axis = 0)\n",
    "Aba_data_female_std = Aba_data_female.std(axis = 0)\n",
    "Aba_data_inf_std = Aba_data_inf.std(axis = 0)\n",
    "\n",
    "display(Aba_data_male_std, Aba_data_female_std, Aba_data_inf_std) "
   ]
  },
  {
   "cell_type": "markdown",
   "metadata": {},
   "source": [
    "#### Sample variance for Length, Diameter, Height, Whole Weight, and Ring Count."
   ]
  },
  {
   "cell_type": "code",
   "execution_count": 5,
   "metadata": {},
   "outputs": [
    {
     "data": {
      "text/plain": [
       "Length           421.869542\n",
       "Diameter         284.921348\n",
       "Height            48.454128\n",
       "Whole Weight    8857.873163\n",
       "Ring Count         9.158791\n",
       "dtype: float64"
      ]
     },
     "metadata": {},
     "output_type": "display_data"
    },
    {
     "data": {
      "text/plain": [
       "Length           296.938763\n",
       "Diameter         201.379978\n",
       "Height            63.948786\n",
       "Whole Weight    7406.885165\n",
       "Ring Count         9.636407\n",
       "dtype: float64"
      ]
     },
     "metadata": {},
     "output_type": "display_data"
    },
    {
     "data": {
      "text/plain": [
       "Length           474.000189\n",
       "Diameter         310.527351\n",
       "Height            40.947292\n",
       "Whole Weight    3278.127290\n",
       "Ring Count         6.307903\n",
       "dtype: float64"
      ]
     },
     "metadata": {},
     "output_type": "display_data"
    }
   ],
   "source": [
    "# I already have the standard deviation for each variable, squaring them will provide me with the sample variances as well.\n",
    "# I'm invoking the numpy power method that passes in a series or list and raises all the entries to the second power.\n",
    "Aba_data_male_var = np.power(Aba_data_male_std, 2)\n",
    "Aba_data_female_var = np.power(Aba_data_female_std, 2)\n",
    "Aba_data_inf_var = np.power(Aba_data_inf_std, 2)\n",
    "\n",
    "display(Aba_data_male_var, Aba_data_female_var, Aba_data_inf_var )"
   ]
  },
  {
   "cell_type": "markdown",
   "metadata": {},
   "source": [
    "#### First Quartile, Median (Second Quartile), Third Quartile, and Interquartile Range with Outliers."
   ]
  },
  {
   "cell_type": "code",
   "execution_count": 6,
   "metadata": {},
   "outputs": [
    {
     "data": {
      "text/html": [
       "<div>\n",
       "<style scoped>\n",
       "    .dataframe tbody tr th:only-of-type {\n",
       "        vertical-align: middle;\n",
       "    }\n",
       "\n",
       "    .dataframe tbody tr th {\n",
       "        vertical-align: top;\n",
       "    }\n",
       "\n",
       "    .dataframe thead th {\n",
       "        text-align: right;\n",
       "    }\n",
       "</style>\n",
       "<table border=\"1\" class=\"dataframe\">\n",
       "  <thead>\n",
       "    <tr style=\"text-align: right;\">\n",
       "      <th></th>\n",
       "      <th>Length</th>\n",
       "      <th>Diameter</th>\n",
       "      <th>Height</th>\n",
       "      <th>Whole Weight</th>\n",
       "      <th>Ring Count</th>\n",
       "    </tr>\n",
       "  </thead>\n",
       "  <tbody>\n",
       "    <tr>\n",
       "      <td>Q1</td>\n",
       "      <td>101</td>\n",
       "      <td>79</td>\n",
       "      <td>26</td>\n",
       "      <td>134.15</td>\n",
       "      <td>9</td>\n",
       "    </tr>\n",
       "    <tr>\n",
       "      <td>Q2</td>\n",
       "      <td>116</td>\n",
       "      <td>91</td>\n",
       "      <td>31</td>\n",
       "      <td>195.15</td>\n",
       "      <td>10</td>\n",
       "    </tr>\n",
       "    <tr>\n",
       "      <td>Q3</td>\n",
       "      <td>126</td>\n",
       "      <td>100</td>\n",
       "      <td>35</td>\n",
       "      <td>253.15</td>\n",
       "      <td>12</td>\n",
       "    </tr>\n",
       "    <tr>\n",
       "      <td>IQR</td>\n",
       "      <td>25</td>\n",
       "      <td>21</td>\n",
       "      <td>9</td>\n",
       "      <td>119</td>\n",
       "      <td>3</td>\n",
       "    </tr>\n",
       "    <tr>\n",
       "      <td>Minimum</td>\n",
       "      <td>31</td>\n",
       "      <td>22</td>\n",
       "      <td>5</td>\n",
       "      <td>3.1</td>\n",
       "      <td>3</td>\n",
       "    </tr>\n",
       "    <tr>\n",
       "      <td>Maximum</td>\n",
       "      <td>156</td>\n",
       "      <td>126</td>\n",
       "      <td>103</td>\n",
       "      <td>565.1</td>\n",
       "      <td>27</td>\n",
       "    </tr>\n",
       "  </tbody>\n",
       "</table>\n",
       "</div>"
      ],
      "text/plain": [
       "        Length Diameter Height Whole Weight Ring Count\n",
       "Q1         101       79     26       134.15          9\n",
       "Q2         116       91     31       195.15         10\n",
       "Q3         126      100     35       253.15         12\n",
       "IQR         25       21      9          119          3\n",
       "Minimum     31       22      5          3.1          3\n",
       "Maximum    156      126    103        565.1         27"
      ]
     },
     "metadata": {},
     "output_type": "display_data"
    },
    {
     "data": {
      "text/html": [
       "<div>\n",
       "<style scoped>\n",
       "    .dataframe tbody tr th:only-of-type {\n",
       "        vertical-align: middle;\n",
       "    }\n",
       "\n",
       "    .dataframe tbody tr th {\n",
       "        vertical-align: top;\n",
       "    }\n",
       "\n",
       "    .dataframe thead th {\n",
       "        text-align: right;\n",
       "    }\n",
       "</style>\n",
       "<table border=\"1\" class=\"dataframe\">\n",
       "  <thead>\n",
       "    <tr style=\"text-align: right;\">\n",
       "      <th></th>\n",
       "      <th>Length</th>\n",
       "      <th>Diameter</th>\n",
       "      <th>Height</th>\n",
       "      <th>Whole Weight</th>\n",
       "      <th>Ring Count</th>\n",
       "    </tr>\n",
       "  </thead>\n",
       "  <tbody>\n",
       "    <tr>\n",
       "      <td>Q1</td>\n",
       "      <td>105</td>\n",
       "      <td>82</td>\n",
       "      <td>28</td>\n",
       "      <td>146</td>\n",
       "      <td>9</td>\n",
       "    </tr>\n",
       "    <tr>\n",
       "      <td>Q2</td>\n",
       "      <td>118</td>\n",
       "      <td>93</td>\n",
       "      <td>32</td>\n",
       "      <td>207.7</td>\n",
       "      <td>10</td>\n",
       "    </tr>\n",
       "    <tr>\n",
       "      <td>Q3</td>\n",
       "      <td>128</td>\n",
       "      <td>101</td>\n",
       "      <td>35</td>\n",
       "      <td>264.05</td>\n",
       "      <td>12</td>\n",
       "    </tr>\n",
       "    <tr>\n",
       "      <td>IQR</td>\n",
       "      <td>23</td>\n",
       "      <td>19</td>\n",
       "      <td>7</td>\n",
       "      <td>118.05</td>\n",
       "      <td>3</td>\n",
       "    </tr>\n",
       "    <tr>\n",
       "      <td>Minimum</td>\n",
       "      <td>55</td>\n",
       "      <td>39</td>\n",
       "      <td>3</td>\n",
       "      <td>16</td>\n",
       "      <td>5</td>\n",
       "    </tr>\n",
       "    <tr>\n",
       "      <td>Maximum</td>\n",
       "      <td>163</td>\n",
       "      <td>130</td>\n",
       "      <td>226</td>\n",
       "      <td>531.4</td>\n",
       "      <td>29</td>\n",
       "    </tr>\n",
       "  </tbody>\n",
       "</table>\n",
       "</div>"
      ],
      "text/plain": [
       "        Length Diameter Height Whole Weight Ring Count\n",
       "Q1         105       82     28          146          9\n",
       "Q2         118       93     32        207.7         10\n",
       "Q3         128      101     35       264.05         12\n",
       "IQR         23       19      7       118.05          3\n",
       "Minimum     55       39      3           16          5\n",
       "Maximum    163      130    226        531.4         29"
      ]
     },
     "metadata": {},
     "output_type": "display_data"
    },
    {
     "data": {
      "text/html": [
       "<div>\n",
       "<style scoped>\n",
       "    .dataframe tbody tr th:only-of-type {\n",
       "        vertical-align: middle;\n",
       "    }\n",
       "\n",
       "    .dataframe tbody tr th {\n",
       "        vertical-align: top;\n",
       "    }\n",
       "\n",
       "    .dataframe thead th {\n",
       "        text-align: right;\n",
       "    }\n",
       "</style>\n",
       "<table border=\"1\" class=\"dataframe\">\n",
       "  <thead>\n",
       "    <tr style=\"text-align: right;\">\n",
       "      <th></th>\n",
       "      <th>Length</th>\n",
       "      <th>Diameter</th>\n",
       "      <th>Height</th>\n",
       "      <th>Whole Weight</th>\n",
       "      <th>Ring Count</th>\n",
       "    </tr>\n",
       "  </thead>\n",
       "  <tbody>\n",
       "    <tr>\n",
       "      <td>Q1</td>\n",
       "      <td>72</td>\n",
       "      <td>54</td>\n",
       "      <td>17</td>\n",
       "      <td>41.1</td>\n",
       "      <td>6</td>\n",
       "    </tr>\n",
       "    <tr>\n",
       "      <td>Q2</td>\n",
       "      <td>87</td>\n",
       "      <td>67</td>\n",
       "      <td>22</td>\n",
       "      <td>76.8</td>\n",
       "      <td>8</td>\n",
       "    </tr>\n",
       "    <tr>\n",
       "      <td>Q3</td>\n",
       "      <td>102</td>\n",
       "      <td>78</td>\n",
       "      <td>26</td>\n",
       "      <td>119.85</td>\n",
       "      <td>9</td>\n",
       "    </tr>\n",
       "    <tr>\n",
       "      <td>IQR</td>\n",
       "      <td>30</td>\n",
       "      <td>24</td>\n",
       "      <td>9</td>\n",
       "      <td>78.75</td>\n",
       "      <td>3</td>\n",
       "    </tr>\n",
       "    <tr>\n",
       "      <td>Minimum</td>\n",
       "      <td>15</td>\n",
       "      <td>11</td>\n",
       "      <td>0</td>\n",
       "      <td>0.4</td>\n",
       "      <td>1</td>\n",
       "    </tr>\n",
       "    <tr>\n",
       "      <td>Maximum</td>\n",
       "      <td>145</td>\n",
       "      <td>110</td>\n",
       "      <td>44</td>\n",
       "      <td>409.9</td>\n",
       "      <td>21</td>\n",
       "    </tr>\n",
       "  </tbody>\n",
       "</table>\n",
       "</div>"
      ],
      "text/plain": [
       "        Length Diameter Height Whole Weight Ring Count\n",
       "Q1          72       54     17         41.1          6\n",
       "Q2          87       67     22         76.8          8\n",
       "Q3         102       78     26       119.85          9\n",
       "IQR         30       24      9        78.75          3\n",
       "Minimum     15       11      0          0.4          1\n",
       "Maximum    145      110     44        409.9         21"
      ]
     },
     "metadata": {},
     "output_type": "display_data"
    }
   ],
   "source": [
    "# There are a few ways to calculate the quartiles, but I'm going to use a method that inputs a percentile.\n",
    "# Reminder that the first quartile is the 25th percentile; similarly for the second and third corresponds to the 50th and 75th percentile.\n",
    "q1_male = np.percentile(Aba_data_male['Length'], q = 50, axis = 0, interpolation = 'midpoint')\n",
    "\n",
    "# Here I'm creating a summary table for the quartiles, interquartile range, minimum (Q1-1.5*IQR), maximum (Q3+1.5*IQR).\n",
    "qrt_male = pd.DataFrame(index = ['Q1', 'Q2', 'Q3', 'IQR',  'Minimum', 'Maximum'], columns = Aba_data_male.columns)\n",
    "qrt_female = pd.DataFrame(index = ['Q1', 'Q2', 'Q3', 'IQR', 'Minimum', 'Maximum'], columns = Aba_data_male.columns)\n",
    "qrt_inf = pd.DataFrame(index = ['Q1', 'Q2', 'Q3', 'IQR', 'Minimum', 'Maximum'], columns = Aba_data_male.columns)\n",
    "\n",
    "\n",
    "# Extracting header from the male abalone data column headers that can be used for quartile summary algorithm.\n",
    "var_list = list(Aba_data_male.columns)\n",
    "\n",
    "# Percentile values list.\n",
    "pct_list = [('Q1', 25), ('Q2', 50), ('Q3', 75), ('Minimum', 0), ('Maximum', 100)]\n",
    "\n",
    "# Looping through the columns of each abalone dataframe computing the Q1, Q2, Q3, Minimum, and Maximum.\n",
    "# I'm defining the Min, Max as the 0th percentile and 100th percentile.\n",
    "for var in var_list:\n",
    "    for qrt, pct in pct_list:\n",
    "       \n",
    "        qrt_male_val = np.percentile(Aba_data_male[var], q = int(pct), axis = 0, interpolation = 'midpoint')\n",
    "        qrt_male.loc[qrt, var] = qrt_male_val\n",
    "        \n",
    "        qrt_female_val = np.percentile(Aba_data_female[var], q = int(pct), axis = 0, interpolation = 'midpoint')\n",
    "        qrt_female.loc[qrt, var] = qrt_female_val\n",
    "        \n",
    "        qrt_inf_val = np.percentile(Aba_data_inf[var], q = int(pct), axis = 0, interpolation = 'midpoint')\n",
    "        qrt_inf.loc[qrt, var] = qrt_inf_val     \n",
    "\n",
    "# Computing interquartile range. \n",
    "for var in var_list:\n",
    "    qrt_male.loc['IQR', var] = qrt_male.loc['Q3', var] - qrt_male.loc['Q1', var]\n",
    "    qrt_female.loc['IQR', var] = qrt_female.loc['Q3', var] - qrt_female.loc['Q1', var]\n",
    "    qrt_inf.loc['IQR', var] = qrt_inf.loc['Q3', var] - qrt_inf.loc['Q1', var]\n",
    "\n",
    "display(qrt_male, qrt_female, qrt_inf,)"
   ]
  },
  {
   "cell_type": "markdown",
   "metadata": {},
   "source": [
    "#### Male Abalone Physical Attributes Boxplots"
   ]
  },
  {
   "cell_type": "code",
   "execution_count": 7,
   "metadata": {},
   "outputs": [
    {
     "data": {
      "image/png": "[encoded data removed]",
      "text/plain": [
       "<Figure size 432x288 with 5 Axes>"
      ]
     },
     "metadata": {
      "needs_background": "light"
     },
     "output_type": "display_data"
    }
   ],
   "source": [
    "# Place 5 plots for each variable. \n",
    "fig, axs = plt.subplots(1, 5)\n",
    "\n",
    "#fig = plt.figure(figsize = (6, 3))\n",
    "\n",
    "# Improve spacing of boxplots using the method below.\n",
    "fig.tight_layout()\n",
    "\n",
    "# Converting columns within the male abalone data to list.\n",
    "len_male = Aba_data_male['Length'].tolist()\n",
    "dia_male = Aba_data_male['Diameter'].tolist()\n",
    "ht_male = Aba_data_male['Height'].tolist()\n",
    "wt_male = Aba_data_male['Whole Weight'].tolist()\n",
    "ring_male = Aba_data_male['Ring Count'].tolist()\n",
    "\n",
    "axs[0].boxplot(len_male, 0, 'k+', showfliers = True, labels = ['Length'])\n",
    "axs[1].boxplot(dia_male, 0, 'k+', showfliers = True, labels = ['Diameter'])\n",
    "axs[2].boxplot(ht_male, 0, 'k+', showfliers = True, labels = ['Height'])\n",
    "axs[3].boxplot(wt_male, 0, 'k+', showfliers = True, labels = ['Whole Weight'])\n",
    "axs[4].boxplot(ring_male, 0, 'k+', showfliers = True, labels = ['Ring Count'])\n",
    "plt.show()"
   ]
  },
  {
   "cell_type": "markdown",
   "metadata": {},
   "source": [
    "#### Female Abalone Physical Attributes Boxplots"
   ]
  },
  {
   "cell_type": "code",
   "execution_count": 8,
   "metadata": {},
   "outputs": [
    {
     "data": {
      "image/png": "[encoded data removed]",
      "text/plain": [
       "<Figure size 432x288 with 5 Axes>"
      ]
     },
     "metadata": {
      "needs_background": "light"
     },
     "output_type": "display_data"
    }
   ],
   "source": [
    "# Place 5 plots for each variable. \n",
    "fig, axs = plt.subplots(1, 5)\n",
    "\n",
    "# Improve spacing of boxplots using the method below.\n",
    "fig.tight_layout()\n",
    "\n",
    "# Converting columns within the female abalone data to list.\n",
    "len_female = Aba_data_female['Length'].tolist()\n",
    "dia_female = Aba_data_female['Diameter'].tolist()\n",
    "ht_female = Aba_data_female['Height'].tolist()\n",
    "wt_female = Aba_data_female['Whole Weight'].tolist()\n",
    "ring_female = Aba_data_female['Ring Count'].tolist()\n",
    "\n",
    "axs[0].boxplot(len_female, 0, 'k+', showfliers = True, labels = ['Length'])\n",
    "axs[1].boxplot(dia_female, 0, 'k+', showfliers = True, labels = ['Diameter'])\n",
    "axs[2].boxplot(ht_female, 0, 'k+', showfliers = True, labels = ['Height'])\n",
    "axs[3].boxplot(wt_female, 0, 'k+', showfliers = True, labels = ['Whole Weight'])\n",
    "axs[4].boxplot(ring_female, 0, 'k+', showfliers = True, labels = ['Ring Count'])\n",
    "\n",
    "plt.show()"
   ]
  },
  {
   "cell_type": "markdown",
   "metadata": {},
   "source": [
    "#### Infant Abalone Physical Attributes Boxplots"
   ]
  },
  {
   "cell_type": "code",
   "execution_count": 9,
   "metadata": {},
   "outputs": [
    {
     "data": {
      "image/png": "[encoded data removed]",
      "text/plain": [
       "<Figure size 432x288 with 5 Axes>"
      ]
     },
     "metadata": {
      "needs_background": "light"
     },
     "output_type": "display_data"
    }
   ],
   "source": [
    "# Place 5 plots for each variable. \n",
    "fig, axs = plt.subplots(1, 5)\n",
    "\n",
    "#plt.suptitle('Infant Abalone Boxplots')\n",
    "\n",
    "# Converting columns within the infant abalone data to list.\n",
    "len_inf = Aba_data_inf['Length'].tolist()\n",
    "dia_inf = Aba_data_inf['Diameter'].tolist()\n",
    "ht_inf = Aba_data_inf['Height'].tolist()\n",
    "wt_inf = Aba_data_inf['Whole Weight'].tolist()\n",
    "ring_inf = Aba_data_inf['Ring Count'].tolist()\n",
    "\n",
    "axs[0].boxplot(len_inf, 0,'k+', showfliers = True, labels = ['Length'])\n",
    "axs[1].boxplot(dia_inf, 0,'k+', showfliers = True, labels = ['Diameter'])\n",
    "axs[2].boxplot(ht_inf, 0,'k+', showfliers = True, labels = ['Height'])\n",
    "axs[3].boxplot(wt_inf, 0,'k+', showfliers = True, labels = ['Whole Weight'])\n",
    "axs[4].boxplot(ring_inf, 0,'k+', showfliers = True, labels = ['Ring Count'])\n",
    "\n",
    "# Improve spacing of boxplots using the method below.\n",
    "fig.tight_layout()\n",
    "\n",
    "plt.show()"
   ]
  },
  {
   "cell_type": "markdown",
   "metadata": {},
   "source": [
    "Inspecting the 5 number summary table and boxplots for infant abalone, the ring count stands out as odd. According to the 128th fisheries report published in 2001 by the Australian Department of Fisheries, black lip abalone has a maturation age of 3 years. The ring count boxplot for the infant data shows spread from 1 to over 20 rings with half of the data between 6 to 9 rings. The abalone age is add 1.5 to the number of rings. Working backwards here starting with age to ring count, a mature black lip abalone is 1.5 rings. Destructive methods and an additional study would need to be undertaken to estimate age on width between rings, so I will conservatively round down on ring count making an infant black lip abalone having less than 2 rings.\n",
    "\n",
    "<br>\n",
    "Using the biology of the abalone as justification, I will discard observations within the infant dataframe with less than 2 rings."
   ]
  },
  {
   "cell_type": "code",
   "execution_count": 10,
   "metadata": {},
   "outputs": [
    {
     "data": {
      "text/html": [
       "<div>\n",
       "<style scoped>\n",
       "    .dataframe tbody tr th:only-of-type {\n",
       "        vertical-align: middle;\n",
       "    }\n",
       "\n",
       "    .dataframe tbody tr th {\n",
       "        vertical-align: top;\n",
       "    }\n",
       "\n",
       "    .dataframe thead th {\n",
       "        text-align: right;\n",
       "    }\n",
       "</style>\n",
       "<table border=\"1\" class=\"dataframe\">\n",
       "  <thead>\n",
       "    <tr style=\"text-align: right;\">\n",
       "      <th></th>\n",
       "      <th>Length</th>\n",
       "      <th>Diameter</th>\n",
       "      <th>Height</th>\n",
       "      <th>Whole Weight</th>\n",
       "      <th>Ring Count</th>\n",
       "    </tr>\n",
       "  </thead>\n",
       "  <tbody>\n",
       "    <tr>\n",
       "      <td>39</td>\n",
       "      <td>15.0</td>\n",
       "      <td>11.0</td>\n",
       "      <td>2.0</td>\n",
       "      <td>0.4</td>\n",
       "      <td>1</td>\n",
       "    </tr>\n",
       "  </tbody>\n",
       "</table>\n",
       "</div>"
      ],
      "text/plain": [
       "    Length  Diameter  Height  Whole Weight  Ring Count\n",
       "39    15.0      11.0     2.0           0.4           1"
      ]
     },
     "metadata": {},
     "output_type": "display_data"
    }
   ],
   "source": [
    "display(Aba_data_inf[Aba_data_inf['Ring Count'] < 2])"
   ]
  },
  {
   "cell_type": "markdown",
   "metadata": {},
   "source": [
    "The returned dataframe for infant abalone with a conditional operator for less than 2 ring count contains a singular entry. There is something suspicious about this data set or my understanding of the \"infant\" designation is flawed. I will rely on the biology as a foundation for decision making in this case and not use the infant data set because there is only one data point.\n",
    "<br>\n",
    "\n",
    "I would like to now combine the female and male abalone data into one for a single regression analysis, but is that appropriate to do so? Is there a statistical tool to examine if female abalone are different enough from male abalone in terms of physical features requiring two seperate regressions?\n",
    "<br>\n",
    "\n",
    "A test of two population means comes to mind with the assumption of unequal variances to determine if male and female abalone physical features are different from each other. I'll be using a non-pooled t-Test with the assumptions that the abalones were simply randomly selected and that the selection of abalone were free of influence from previous choices. With the practical application of the Central Limit Theorem, and a healthy sample size of one thousand plus, the normal assumption is fulfilled."
   ]
  },
  {
   "cell_type": "markdown",
   "metadata": {},
   "source": [
    "#### Non-Pooled t-Test"
   ]
  },
  {
   "cell_type": "markdown",
   "metadata": {},
   "source": [
    "The null hypothesis: mean male abalone physical feature is equal to that of their female counterpoint.\n",
    "<br>\n",
    "The alternative hypothesis: mean male abalone physical feature is not equal to that of their female counterpoint.\n",
    "<br> \n",
    "\n",
    "$\\alpha$-level = 5%\n",
    "<br>\n",
    "\n",
    "If $p$ $\\leq$ $\\alpha$, reject null hypothesis."
   ]
  },
  {
   "cell_type": "code",
   "execution_count": 11,
   "metadata": {},
   "outputs": [
    {
     "data": {
      "text/html": [
       "<div>\n",
       "<style scoped>\n",
       "    .dataframe tbody tr th:only-of-type {\n",
       "        vertical-align: middle;\n",
       "    }\n",
       "\n",
       "    .dataframe tbody tr th {\n",
       "        vertical-align: top;\n",
       "    }\n",
       "\n",
       "    .dataframe thead th {\n",
       "        text-align: right;\n",
       "    }\n",
       "</style>\n",
       "<table border=\"1\" class=\"dataframe\">\n",
       "  <thead>\n",
       "    <tr style=\"text-align: right;\">\n",
       "      <th></th>\n",
       "      <th>t-Statistic</th>\n",
       "      <th>p-value</th>\n",
       "    </tr>\n",
       "  </thead>\n",
       "  <tbody>\n",
       "    <tr>\n",
       "      <td>Length</td>\n",
       "      <td>-4.9907</td>\n",
       "      <td>6.38015e-07</td>\n",
       "    </tr>\n",
       "    <tr>\n",
       "      <td>Diameter</td>\n",
       "      <td>-5.29354</td>\n",
       "      <td>1.29146e-07</td>\n",
       "    </tr>\n",
       "    <tr>\n",
       "      <td>Height</td>\n",
       "      <td>-4.66939</td>\n",
       "      <td>3.17388e-06</td>\n",
       "    </tr>\n",
       "    <tr>\n",
       "      <td>Whole Weight</td>\n",
       "      <td>-3.25309</td>\n",
       "      <td>0.00115504</td>\n",
       "    </tr>\n",
       "    <tr>\n",
       "      <td>Ring Count</td>\n",
       "      <td>-3.66566</td>\n",
       "      <td>0.000251381</td>\n",
       "    </tr>\n",
       "  </tbody>\n",
       "</table>\n",
       "</div>"
      ],
      "text/plain": [
       "             t-Statistic      p-value\n",
       "Length           -4.9907  6.38015e-07\n",
       "Diameter        -5.29354  1.29146e-07\n",
       "Height          -4.66939  3.17388e-06\n",
       "Whole Weight    -3.25309   0.00115504\n",
       "Ring Count      -3.66566  0.000251381"
      ]
     },
     "metadata": {},
     "output_type": "display_data"
    }
   ],
   "source": [
    "tt_results = pd.DataFrame(index = var_list, columns = ['t-Statistic', 'p-value'])\n",
    "\n",
    "for var in var_list:\n",
    "    t_stat, p_val = st.ttest_ind(Aba_data_male[var], Aba_data_female[var], equal_var = False)\n",
    "    tt_results.loc[var] = t_stat, p_val\n",
    "\n",
    "display(tt_results)"
   ]
  },
  {
   "cell_type": "markdown",
   "metadata": {},
   "source": [
    "The table summarizes the t-Statistic, and p-values for the physical features. The returned p-values say to reject the null hypothesis for all features; simply said, female abalone differ in size and age from males. Looking at the mean summary values between male and female abalone, the female abalone are, on average, larger than their male counterparts.\n",
    "<br>\n",
    "\n",
    "With the information provided so far, I will run a regression on male and female abalone seperately with a third regression on a combined data set for comparison."
   ]
  },
  {
   "cell_type": "markdown",
   "metadata": {},
   "source": [
    "#### Variable Correlation by Sex"
   ]
  },
  {
   "cell_type": "markdown",
   "metadata": {},
   "source": [
    "Plotting a matrix of scatterplots exhibits the general relationship predictor variables have with one another. The histograms are inserted into the diagonal entries of the matrix of graphs to replace redundant information."
   ]
  },
  {
   "cell_type": "code",
   "execution_count": 12,
   "metadata": {},
   "outputs": [
    {
     "data": {
      "image/png": "[encoded data removed]",
      "text/plain": [
       "<Figure size 900x900 with 30 Axes>"
      ]
     },
     "metadata": {
      "needs_background": "light"
     },
     "output_type": "display_data"
    }
   ],
   "source": [
    "# PairGrid method is used to quickly assess relationships among the variables by way of scatter and kernel density estimate plots.\n",
    "pgs_male = sns.PairGrid(Aba_data_male)\n",
    "pgs_male.map_diag(sns.histplot)\n",
    "pgs_male.map_lower(sns.scatterplot, color = 'blue')\n",
    "plt.show()"
   ]
  },
  {
   "cell_type": "code",
   "execution_count": 13,
   "metadata": {},
   "outputs": [
    {
     "data": {
      "image/png": "[encoded data removed]",
      "text/plain": [
       "<Figure size 900x900 with 30 Axes>"
      ]
     },
     "metadata": {
      "needs_background": "light"
     },
     "output_type": "display_data"
    }
   ],
   "source": [
    "pgs_female = sns.PairGrid(Aba_data_female)\n",
    "pgs_female.map_diag(sns.histplot)\n",
    "pgs_female.map_lower(sns.scatterplot, color = 'green')\n",
    "plt.show()"
   ]
  },
  {
   "cell_type": "markdown",
   "metadata": {},
   "source": [
    "The matrix of scatter plot shows there a single observation for both the male and female ablone for ring count compared to height that stands out. This observation will need further assessment regarding its impact on the regression."
   ]
  },
  {
   "cell_type": "markdown",
   "metadata": {},
   "source": [
    "#### Correlation Coefficient Matrix and Heatmap"
   ]
  },
  {
   "cell_type": "markdown",
   "metadata": {},
   "source": [
    "An entire data column like length and diameter can be considered their own vectors in space. Correlation in vector space is the measure of the cosined angle between the two vectors. It is a number that describles how strongly the two vectors follow a linear relationship. The correlation coefficient vary from -1 to +1. Two vectors pointing in the same direction parallel is the +1 case while the -1 case corresponds to two vectors parallel, but directionally opposed. \n",
    "<br>\n",
    "\n",
    "An intuitive way to think about correlation between two vectors is if I change 1 unit of let say, the length vector, how much does the diameter change? If its a 1 to 1 change, then the vectors have perfect correlation of 1. If its a 1 to -1 change, then the vectors have perfect correlation of -1. If there is no change, then they are uncorrelated.\n",
    "<br>\n",
    "\n",
    "The heatmaps annotated with the correlation coefficient $r$ shows the strength of linear relationships among the predictor variables by number and depth of color."
   ]
  },
  {
   "cell_type": "code",
   "execution_count": 14,
   "metadata": {},
   "outputs": [
    {
     "data": {
      "image/png": "[encoded data removed]",
      "text/plain": [
       "<Figure size 1080x1080 with 2 Axes>"
      ]
     },
     "metadata": {
      "needs_background": "light"
     },
     "output_type": "display_data"
    }
   ],
   "source": [
    "# Produce heatmap and numerical correlation value, r.\n",
    "corr_male = Aba_data_male.corr()\n",
    "mask_male = np.triu(np.ones_like(corr_male, dtype = bool))\n",
    "\n",
    "# Sizing the heatmap plots.\n",
    "f, ax = plt.subplots(figsize = (15, 15))\n",
    "cmap = sns.diverging_palette(250, 15, as_cmap=True)\n",
    "\n",
    "sns.heatmap(corr_male, mask = mask_male, cmap = 'Blues', square = True, annot = True, cbar_kws = {\"shrink\": .5}).set_title('Male Abalone Heatmap')\n",
    "plt.show()"
   ]
  },
  {
   "cell_type": "code",
   "execution_count": 15,
   "metadata": {},
   "outputs": [
    {
     "data": {
      "image/png": "[encoded data removed]",
      "text/plain": [
       "<Figure size 1080x1080 with 2 Axes>"
      ]
     },
     "metadata": {
      "needs_background": "light"
     },
     "output_type": "display_data"
    }
   ],
   "source": [
    "corr_female = Aba_data_female.corr()\n",
    "mask_female = np.triu(np.ones_like(corr_male, dtype = bool))\n",
    "\n",
    "f, ax = plt.subplots(figsize=(15, 15))\n",
    "cmap = sns.diverging_palette(250, 15, as_cmap=True)\n",
    "\n",
    "sns.heatmap(corr_female, mask = mask_female, cmap = 'Greens', square = True, annot = True, cbar_kws = {\"shrink\": .5}).set_title('Female Abalone Heatmap')\n",
    "plt.show()"
   ]
  },
  {
   "cell_type": "markdown",
   "metadata": {},
   "source": [
    "## Principal Component Analysis - Ordinary Least Squares Regression"
   ]
  },
  {
   "cell_type": "markdown",
   "metadata": {},
   "source": [
    "The matrix of scatterplots show tight clustering that can be encapsulated by an football shaped outline (ellipsoid) along with the correlation heatmap matrix indicate multicollinearity among the predictor variables. I will need to determine the Variance Inflated Factors, VIF's for short, that will numerically describe how the independent predictor variables affect one another.\n",
    "<br>\n",
    "\n",
    "VIF$_i$ values of less than or equal to 1, VIF$_i$  $\\leq 1$, means that the $i^{th}$ predictor variable has little to no multicollinearity with the remaining predictor variables.\n",
    "<br>\n",
    "\n",
    "VIF$_i$ values between 1 and 5, $1 <$ VIF$_i$  $\\leq 5$, means that the $i^{th}$ predictor variable is moderately multicollineated with the remaining predictor variables.\n",
    "<br>\n",
    "\n",
    "VIF$_i$ values greater than 5,  VIF$_i$ $> 5$, means that the $i^{th}$ predictor variable is severely multicollineated with the remaining predictor variables.\n",
    "<br>"
   ]
  },
  {
   "cell_type": "code",
   "execution_count": 16,
   "metadata": {},
   "outputs": [
    {
     "data": {
      "text/plain": [
       "array([30.30347338, 29.52141648,  3.86176641,  7.35796752])"
      ]
     },
     "metadata": {},
     "output_type": "display_data"
    },
    {
     "data": {
      "text/plain": [
       "array([19.77714403, 18.95648111,  1.52612151,  8.19794695])"
      ]
     },
     "metadata": {},
     "output_type": "display_data"
    }
   ],
   "source": [
    "# Create dataframes that are used as matrices to run correlation coefficient calculations.\n",
    "VIF_mpvar = Aba_data_male[['Length', 'Diameter','Height', 'Whole Weight']]\n",
    "corr_mres = np.corrcoef(VIF_mpvar, rowvar = False)\n",
    "\n",
    "# Take the inverse and return the diagonals which give the Coefficient of Determination, r^2.\n",
    "VIF_male = np.linalg.inv(corr_mres)\n",
    "VIF_fpvar = Aba_data_female[['Length', 'Diameter','Height', 'Whole Weight']]\n",
    "\n",
    "corr_fres = np.corrcoef(VIF_fpvar, rowvar = False)\n",
    "VIF_female = np.linalg.inv(corr_fres)\n",
    "\n",
    "display(VIF_male.diagonal(), VIF_female.diagonal())"
   ]
  },
  {
   "cell_type": "markdown",
   "metadata": {},
   "source": [
    "The returned arrays contain the VIF values that indicate length, diameter, and whole weight for both male and female abalone are multicollineated meaning shifts in any of the three could lead to changes in the other. I need to find a method to uncorrelate the predictor variables before running ordinary least squares regression.\n",
    "<br>\n",
    "\n",
    "Principal Component Analysis is the solution to the problem. It will untangle the predictor variables, reduce the dimensionality of the data set in terms of numerical entries, and project its vector space to a lower dimension while still retaining the information of the original data. Coupling Principal Component Analysis and Ordinary Least Squares regression, I can estimate the best fit line with fewer inputs. This technique is called Principal Component Regression."
   ]
  },
  {
   "cell_type": "markdown",
   "metadata": {},
   "source": [
    "#### Principal Component Analysis"
   ]
  },
  {
   "cell_type": "markdown",
   "metadata": {},
   "source": [
    "PCA views the original data set as a vector space and collapses the basis vectors that make up the space into perpendicular axes of a higher dimensional ellipsoid. \n",
    "Each axes has a corresponding scaling factor (think \"tick marks of an axes\") that represents a fraction of the total variance (information) within the original data. \n",
    "Since the axes are perpendicular to one another, they are uncorrelated, it's possible to resolve the multicollinearity issues found within the data set determined visually by the scatter plots, and computationally by the correlation coefficient $r$ and coefficient of determination $r^{2}$.\n"
   ]
  },
  {
   "cell_type": "markdown",
   "metadata": {},
   "source": [
    "#### Forming the Covariance Matrix and Standardized Design Matrix."
   ]
  },
  {
   "cell_type": "code",
   "execution_count": 17,
   "metadata": {
    "scrolled": false
   },
   "outputs": [
    {
     "data": {
      "text/html": [
       "<div>\n",
       "<style scoped>\n",
       "    .dataframe tbody tr th:only-of-type {\n",
       "        vertical-align: middle;\n",
       "    }\n",
       "\n",
       "    .dataframe tbody tr th {\n",
       "        vertical-align: top;\n",
       "    }\n",
       "\n",
       "    .dataframe thead th {\n",
       "        text-align: right;\n",
       "    }\n",
       "</style>\n",
       "<table border=\"1\" class=\"dataframe\">\n",
       "  <thead>\n",
       "    <tr style=\"text-align: right;\">\n",
       "      <th></th>\n",
       "      <th>Length</th>\n",
       "      <th>Diameter</th>\n",
       "      <th>Height</th>\n",
       "      <th>Whole Weight</th>\n",
       "    </tr>\n",
       "  </thead>\n",
       "  <tbody>\n",
       "    <tr>\n",
       "      <td>0</td>\n",
       "      <td>-1.03596</td>\n",
       "      <td>-0.880194</td>\n",
       "      <td>-1.61993</td>\n",
       "      <td>-1.01462</td>\n",
       "    </tr>\n",
       "    <tr>\n",
       "      <td>1</td>\n",
       "      <td>-2.05839</td>\n",
       "      <td>-2.06505</td>\n",
       "      <td>-1.76359</td>\n",
       "      <td>-1.62769</td>\n",
       "    </tr>\n",
       "    <tr>\n",
       "      <td>2</td>\n",
       "      <td>-1.18202</td>\n",
       "      <td>-0.880194</td>\n",
       "      <td>-0.757974</td>\n",
       "      <td>-1.01037</td>\n",
       "    </tr>\n",
       "    <tr>\n",
       "      <td>3</td>\n",
       "      <td>-0.841217</td>\n",
       "      <td>-0.820951</td>\n",
       "      <td>-0.757974</td>\n",
       "      <td>-1.02418</td>\n",
       "    </tr>\n",
       "    <tr>\n",
       "      <td>4</td>\n",
       "      <td>-1.2794</td>\n",
       "      <td>-1.05792</td>\n",
       "      <td>-1.18895</td>\n",
       "      <td>-1.24412</td>\n",
       "    </tr>\n",
       "    <tr>\n",
       "      <td>...</td>\n",
       "      <td>...</td>\n",
       "      <td>...</td>\n",
       "      <td>...</td>\n",
       "      <td>...</td>\n",
       "    </tr>\n",
       "    <tr>\n",
       "      <td>1523</td>\n",
       "      <td>-0.110915</td>\n",
       "      <td>-0.110034</td>\n",
       "      <td>-0.614314</td>\n",
       "      <td>-0.322918</td>\n",
       "    </tr>\n",
       "    <tr>\n",
       "      <td>1524</td>\n",
       "      <td>-0.0135418</td>\n",
       "      <td>-0.110034</td>\n",
       "      <td>0.103984</td>\n",
       "      <td>-0.263418</td>\n",
       "    </tr>\n",
       "    <tr>\n",
       "      <td>1525</td>\n",
       "      <td>0.278579</td>\n",
       "      <td>0.00845222</td>\n",
       "      <td>-0.470654</td>\n",
       "      <td>-0.0541021</td>\n",
       "    </tr>\n",
       "    <tr>\n",
       "      <td>1526</td>\n",
       "      <td>0.375952</td>\n",
       "      <td>0.423154</td>\n",
       "      <td>1.54058</td>\n",
       "      <td>0.392154</td>\n",
       "    </tr>\n",
       "    <tr>\n",
       "      <td>1527</td>\n",
       "      <td>1.44706</td>\n",
       "      <td>1.37104</td>\n",
       "      <td>1.25326</td>\n",
       "      <td>2.03374</td>\n",
       "    </tr>\n",
       "  </tbody>\n",
       "</table>\n",
       "<p>1528 rows × 4 columns</p>\n",
       "</div>"
      ],
      "text/plain": [
       "         Length    Diameter    Height Whole Weight\n",
       "0      -1.03596   -0.880194  -1.61993     -1.01462\n",
       "1      -2.05839    -2.06505  -1.76359     -1.62769\n",
       "2      -1.18202   -0.880194 -0.757974     -1.01037\n",
       "3     -0.841217   -0.820951 -0.757974     -1.02418\n",
       "4       -1.2794    -1.05792  -1.18895     -1.24412\n",
       "...         ...         ...       ...          ...\n",
       "1523  -0.110915   -0.110034 -0.614314    -0.322918\n",
       "1524 -0.0135418   -0.110034  0.103984    -0.263418\n",
       "1525   0.278579  0.00845222 -0.470654   -0.0541021\n",
       "1526   0.375952    0.423154   1.54058     0.392154\n",
       "1527    1.44706     1.37104   1.25326      2.03374\n",
       "\n",
       "[1528 rows x 4 columns]"
      ]
     },
     "metadata": {},
     "output_type": "display_data"
    },
    {
     "data": {
      "text/html": [
       "<div>\n",
       "<style scoped>\n",
       "    .dataframe tbody tr th:only-of-type {\n",
       "        vertical-align: middle;\n",
       "    }\n",
       "\n",
       "    .dataframe tbody tr th {\n",
       "        vertical-align: top;\n",
       "    }\n",
       "\n",
       "    .dataframe thead th {\n",
       "        text-align: right;\n",
       "    }\n",
       "</style>\n",
       "<table border=\"1\" class=\"dataframe\">\n",
       "  <thead>\n",
       "    <tr style=\"text-align: right;\">\n",
       "      <th></th>\n",
       "      <th>Length</th>\n",
       "      <th>Diameter</th>\n",
       "      <th>Height</th>\n",
       "      <th>Whole Weight</th>\n",
       "    </tr>\n",
       "  </thead>\n",
       "  <tbody>\n",
       "    <tr>\n",
       "      <td>0</td>\n",
       "      <td>-0.569796</td>\n",
       "      <td>-0.489502</td>\n",
       "      <td>-0.575498</td>\n",
       "      <td>-0.858745</td>\n",
       "    </tr>\n",
       "    <tr>\n",
       "      <td>1</td>\n",
       "      <td>-0.569796</td>\n",
       "      <td>-0.55997</td>\n",
       "      <td>-0.200348</td>\n",
       "      <td>-0.625196</td>\n",
       "    </tr>\n",
       "    <tr>\n",
       "      <td>2</td>\n",
       "      <td>-0.3957</td>\n",
       "      <td>-0.419034</td>\n",
       "      <td>-0.825598</td>\n",
       "      <td>-0.647273</td>\n",
       "    </tr>\n",
       "    <tr>\n",
       "      <td>3</td>\n",
       "      <td>-0.337668</td>\n",
       "      <td>-0.20763</td>\n",
       "      <td>-0.200348</td>\n",
       "      <td>-0.353303</td>\n",
       "    </tr>\n",
       "    <tr>\n",
       "      <td>4</td>\n",
       "      <td>-0.627828</td>\n",
       "      <td>-1.05325</td>\n",
       "      <td>-0.450448</td>\n",
       "      <td>-1.02258</td>\n",
       "    </tr>\n",
       "    <tr>\n",
       "      <td>...</td>\n",
       "      <td>...</td>\n",
       "      <td>...</td>\n",
       "      <td>...</td>\n",
       "      <td>...</td>\n",
       "    </tr>\n",
       "    <tr>\n",
       "      <td>1302</td>\n",
       "      <td>0.0685549</td>\n",
       "      <td>0.285646</td>\n",
       "      <td>0.174802</td>\n",
       "      <td>0.0150305</td>\n",
       "    </tr>\n",
       "    <tr>\n",
       "      <td>1303</td>\n",
       "      <td>0.0685549</td>\n",
       "      <td>0.00377411</td>\n",
       "      <td>0.299852</td>\n",
       "      <td>-0.120916</td>\n",
       "    </tr>\n",
       "    <tr>\n",
       "      <td>1304</td>\n",
       "      <td>-0.743891</td>\n",
       "      <td>-0.771374</td>\n",
       "      <td>-0.825598</td>\n",
       "      <td>-1.00283</td>\n",
       "    </tr>\n",
       "    <tr>\n",
       "      <td>1305</td>\n",
       "      <td>-0.163573</td>\n",
       "      <td>-0.0666939</td>\n",
       "      <td>0.174802</td>\n",
       "      <td>-0.370732</td>\n",
       "    </tr>\n",
       "    <tr>\n",
       "      <td>1306</td>\n",
       "      <td>0.53281</td>\n",
       "      <td>0.426582</td>\n",
       "      <td>-0.200348</td>\n",
       "      <td>0.111471</td>\n",
       "    </tr>\n",
       "  </tbody>\n",
       "</table>\n",
       "<p>1307 rows × 4 columns</p>\n",
       "</div>"
      ],
      "text/plain": [
       "         Length    Diameter    Height Whole Weight\n",
       "0     -0.569796   -0.489502 -0.575498    -0.858745\n",
       "1     -0.569796    -0.55997 -0.200348    -0.625196\n",
       "2       -0.3957   -0.419034 -0.825598    -0.647273\n",
       "3     -0.337668    -0.20763 -0.200348    -0.353303\n",
       "4     -0.627828    -1.05325 -0.450448     -1.02258\n",
       "...         ...         ...       ...          ...\n",
       "1302  0.0685549    0.285646  0.174802    0.0150305\n",
       "1303  0.0685549  0.00377411  0.299852    -0.120916\n",
       "1304  -0.743891   -0.771374 -0.825598     -1.00283\n",
       "1305  -0.163573  -0.0666939  0.174802    -0.370732\n",
       "1306    0.53281    0.426582 -0.200348     0.111471\n",
       "\n",
       "[1307 rows x 4 columns]"
      ]
     },
     "metadata": {},
     "output_type": "display_data"
    },
    {
     "data": {
      "text/html": [
       "<div>\n",
       "<style scoped>\n",
       "    .dataframe tbody tr th:only-of-type {\n",
       "        vertical-align: middle;\n",
       "    }\n",
       "\n",
       "    .dataframe tbody tr th {\n",
       "        vertical-align: top;\n",
       "    }\n",
       "\n",
       "    .dataframe thead th {\n",
       "        text-align: right;\n",
       "    }\n",
       "</style>\n",
       "<table border=\"1\" class=\"dataframe\">\n",
       "  <thead>\n",
       "    <tr style=\"text-align: right;\">\n",
       "      <th></th>\n",
       "      <th>Length</th>\n",
       "      <th>Diameter</th>\n",
       "      <th>Height</th>\n",
       "      <th>Whole Weight</th>\n",
       "    </tr>\n",
       "  </thead>\n",
       "  <tbody>\n",
       "    <tr>\n",
       "      <td>Length</td>\n",
       "      <td>421.869542</td>\n",
       "      <td>340.425432</td>\n",
       "      <td>119.042321</td>\n",
       "      <td>1775.148886</td>\n",
       "    </tr>\n",
       "    <tr>\n",
       "      <td>Diameter</td>\n",
       "      <td>340.425432</td>\n",
       "      <td>284.921348</td>\n",
       "      <td>98.791884</td>\n",
       "      <td>1450.637676</td>\n",
       "    </tr>\n",
       "    <tr>\n",
       "      <td>Height</td>\n",
       "      <td>119.042321</td>\n",
       "      <td>98.791884</td>\n",
       "      <td>48.454128</td>\n",
       "      <td>552.140946</td>\n",
       "    </tr>\n",
       "    <tr>\n",
       "      <td>Whole Weight</td>\n",
       "      <td>1775.148886</td>\n",
       "      <td>1450.637676</td>\n",
       "      <td>552.140946</td>\n",
       "      <td>8857.873163</td>\n",
       "    </tr>\n",
       "  </tbody>\n",
       "</table>\n",
       "</div>"
      ],
      "text/plain": [
       "                   Length     Diameter      Height  Whole Weight\n",
       "Length         421.869542   340.425432  119.042321   1775.148886\n",
       "Diameter       340.425432   284.921348   98.791884   1450.637676\n",
       "Height         119.042321    98.791884   48.454128    552.140946\n",
       "Whole Weight  1775.148886  1450.637676  552.140946   8857.873163"
      ]
     },
     "metadata": {},
     "output_type": "display_data"
    },
    {
     "data": {
      "text/html": [
       "<div>\n",
       "<style scoped>\n",
       "    .dataframe tbody tr th:only-of-type {\n",
       "        vertical-align: middle;\n",
       "    }\n",
       "\n",
       "    .dataframe tbody tr th {\n",
       "        vertical-align: top;\n",
       "    }\n",
       "\n",
       "    .dataframe thead th {\n",
       "        text-align: right;\n",
       "    }\n",
       "</style>\n",
       "<table border=\"1\" class=\"dataframe\">\n",
       "  <thead>\n",
       "    <tr style=\"text-align: right;\">\n",
       "      <th></th>\n",
       "      <th>Length</th>\n",
       "      <th>Diameter</th>\n",
       "      <th>Height</th>\n",
       "      <th>Whole Weight</th>\n",
       "    </tr>\n",
       "  </thead>\n",
       "  <tbody>\n",
       "    <tr>\n",
       "      <td>Length</td>\n",
       "      <td>296.938763</td>\n",
       "      <td>237.463481</td>\n",
       "      <td>76.271599</td>\n",
       "      <td>1377.911273</td>\n",
       "    </tr>\n",
       "    <tr>\n",
       "      <td>Diameter</td>\n",
       "      <td>237.463481</td>\n",
       "      <td>201.379978</td>\n",
       "      <td>63.793377</td>\n",
       "      <td>1130.494755</td>\n",
       "    </tr>\n",
       "    <tr>\n",
       "      <td>Height</td>\n",
       "      <td>76.271599</td>\n",
       "      <td>63.793377</td>\n",
       "      <td>63.948786</td>\n",
       "      <td>401.752559</td>\n",
       "    </tr>\n",
       "    <tr>\n",
       "      <td>Whole Weight</td>\n",
       "      <td>1377.911273</td>\n",
       "      <td>1130.494755</td>\n",
       "      <td>401.752559</td>\n",
       "      <td>7406.885165</td>\n",
       "    </tr>\n",
       "  </tbody>\n",
       "</table>\n",
       "</div>"
      ],
      "text/plain": [
       "                   Length     Diameter      Height  Whole Weight\n",
       "Length         296.938763   237.463481   76.271599   1377.911273\n",
       "Diameter       237.463481   201.379978   63.793377   1130.494755\n",
       "Height          76.271599    63.793377   63.948786    401.752559\n",
       "Whole Weight  1377.911273  1130.494755  401.752559   7406.885165"
      ]
     },
     "metadata": {},
     "output_type": "display_data"
    }
   ],
   "source": [
    "# Form the covariance matrix by XTX or XXT depending how the data is structured to reduce 1000+ by 4 matrix to a 4 by 4.\n",
    "pca_male = Aba_data_male[['Length', 'Diameter', 'Height', 'Whole Weight']] \n",
    "\n",
    "pca_var = ['Length', 'Diameter', 'Height', 'Whole Weight']\n",
    "\n",
    "# Standardizing design matrix (original data set) by mean centering and scaling by the respective standard deviations because the units are mixed. Grams for weights and mm for length.\n",
    "z_mpca = pd.DataFrame(index = Aba_data_male.index, columns = ['Length', 'Diameter', 'Height', 'Whole Weight'])\n",
    "z_fpca = pd.DataFrame(index = Aba_data_female.index, columns = ['Length', 'Diameter', 'Height', 'Whole Weight'])\n",
    "\n",
    "for pc in pca_var:\n",
    "    for i in z_mpca.index:\n",
    "        z_mpca.loc[i, pc] = (Aba_data_male.loc[i, pc] - Aba_data_male[pc].mean()) / Aba_data_male[pc].std()\n",
    "\n",
    "for pc in pca_var:\n",
    "    for i in z_fpca.index:\n",
    "        z_fpca.loc[i, pc] = (Aba_data_female.loc[i, pc] - Aba_data_female[pc].mean()) / Aba_data_female[pc].std()        \n",
    "\n",
    "display(z_mpca, z_fpca)\n",
    "\n",
    "# the method \"df.cov()\"will input a data matrix, standardize it then compute the covariance matrix by means of X @ X.T or X.T @ X.\n",
    "cov_m = pca_male.cov()\n",
    "\n",
    "pca_female = Aba_data_female[['Length', 'Diameter', 'Height', 'Whole Weight']]\n",
    "cov_f = pca_female.cov()\n",
    "\n",
    "display(cov_m, cov_f)"
   ]
  },
  {
   "cell_type": "markdown",
   "metadata": {},
   "source": [
    "The diagonal entries represents the variance of each predictor variable of itself while the off diagonal entries are the covariance between the predictor variables. The diagonal entries of both covariance matrices  match the values for male and female abalone variances when I calculated them individually as descriptive statistics. A good sign."
   ]
  },
  {
   "cell_type": "markdown",
   "metadata": {},
   "source": [
    "#### Computing Principal Components"
   ]
  },
  {
   "cell_type": "code",
   "execution_count": 73,
   "metadata": {},
   "outputs": [
    {
     "data": {
      "text/plain": [
       "array([0.19576651, 0.16001276, 0.06059334, 0.96560853])"
      ]
     },
     "metadata": {},
     "output_type": "display_data"
    },
    {
     "data": {
      "text/plain": [
       "array([0.18200008, 0.14931047, 0.05300436, 0.97044984])"
      ]
     },
     "metadata": {},
     "output_type": "display_data"
    },
    {
     "data": {
      "text/plain": [
       "'Eigenvalues - Female Abalone'"
      ]
     },
     "metadata": {},
     "output_type": "display_data"
    },
    {
     "data": {
      "text/plain": [
       "array([7.86117891e+03+0.j, 6.90687589e+00+0.j, 5.92709194e+01+0.j,\n",
       "       4.17959861e+01+0.j])"
      ]
     },
     "metadata": {},
     "output_type": "display_data"
    },
    {
     "data": {
      "text/plain": [
       "'Eigenvectors - Female Abalone'"
      ]
     },
     "metadata": {},
     "output_type": "display_data"
    },
    {
     "data": {
      "text/plain": [
       "array([[ 1.82000077e-01, -6.26471206e-01,  7.49865093e-01,\n",
       "         1.10055184e-01],\n",
       "       [ 1.49310467e-01,  7.78961159e-01,  6.06673952e-01,\n",
       "         5.35967550e-02],\n",
       "       [ 5.30043562e-02, -2.74335580e-02,  1.09831569e-01,\n",
       "        -9.92156724e-01],\n",
       "       [ 9.70449841e-01, -8.60579032e-04, -2.39971008e-01,\n",
       "         2.53037498e-02]])"
      ]
     },
     "metadata": {},
     "output_type": "display_data"
    },
    {
     "data": {
      "text/plain": [
       "[(0.9864510336859188+0j),\n",
       " (0.0008667014124154765+0j),\n",
       " (0.007437543450576533+0j),\n",
       " (0.005244721451089338+0j)]"
      ]
     },
     "metadata": {},
     "output_type": "display_data"
    },
    {
     "data": {
      "text/plain": [
       "'Eigenvalues - Male Abalone'"
      ]
     },
     "metadata": {},
     "output_type": "display_data"
    },
    {
     "data": {
      "text/plain": [
       "array([9.49280055e+03+0.j, 1.01613782e+02+0.j, 5.97034494e+00+0.j,\n",
       "       1.27335070e+01+0.j])"
      ]
     },
     "metadata": {},
     "output_type": "display_data"
    },
    {
     "data": {
      "text/plain": [
       "'Eigenvectors - Male Abalone'"
      ]
     },
     "metadata": {},
     "output_type": "display_data"
    },
    {
     "data": {
      "text/plain": [
       "array([[ 0.19576651,  0.73777408, -0.61542303, -0.1965181 ],\n",
       "       [ 0.16001276,  0.61380478,  0.77162146,  0.04732784],\n",
       "       [ 0.06059334,  0.11066972, -0.16064256,  0.97891503],\n",
       "       [ 0.96560853, -0.25823498,  0.006984  , -0.02942924]])"
      ]
     },
     "metadata": {},
     "output_type": "display_data"
    },
    {
     "data": {
      "text/plain": [
       "[(0.9874840159039444+0j),\n",
       " (0.010570324880077775+0j),\n",
       " (0.0006210622644110021+0j),\n",
       " (0.001324596951566779+0j)]"
      ]
     },
     "metadata": {},
     "output_type": "display_data"
    }
   ],
   "source": [
    "# Initializing empty total Variance for male and female abalone data.\n",
    "total_mvar = 0\n",
    "total_fvar = 0\n",
    "\n",
    "# Initializing empty list to store proportional variance corresponding to their principal axes.\n",
    "mpca_varpct = []\n",
    "fpca_varpct = []\n",
    "\n",
    "# Project the entire data space onto a line to determine the principal axes (eigenvectors) and scaling factors (eigenvalues).\n",
    "eig_m, eigv_m = la.eig(cov_m)\n",
    "eig_f, eigv_f = la.eig(cov_f)\n",
    "\n",
    "# The returned eigenvectors of the covariance matrix that correspond to the largest variance represents the original data matrix but in a drastically reduced fashion.\n",
    "for lam in eig_m:\n",
    "    total_mvar += lam\n",
    "\n",
    "# Computing proportion of variance corresponding to each principal component.    \n",
    "for lam in eig_m:\n",
    "    mpca_varpct.append(lam/total_mvar)\n",
    "\n",
    "for lam in eig_f:\n",
    "    total_fvar += lam\n",
    "    \n",
    "for lam in eig_f:\n",
    "    fpca_varpct.append(lam/total_fvar)\n",
    "\n",
    "display(eigv_m[:, 0], eigv_f[:, 0])    \n",
    "\n",
    "# Output the eigenvalues, eigenvectors, and the variance contributed proportionally.   \n",
    "display(\"Eigenvalues - Female Abalone\", eig_f, \"Eigenvectors - Female Abalone\", eigv_f, fpca_varpct)\n",
    "\n",
    "# Output the eigenvalues, eigenvectors, and the variance contributed proportionally.\n",
    "display(\"Eigenvalues - Male Abalone\", eig_m, \"Eigenvectors - Male Abalone\", eigv_m, mpca_varpct)"
   ]
  },
  {
   "cell_type": "markdown",
   "metadata": {},
   "source": [
    "#### Recasting Original Data via PC1"
   ]
  },
  {
   "cell_type": "code",
   "execution_count": 71,
   "metadata": {},
   "outputs": [
    {
     "data": {
      "text/html": [
       "<div>\n",
       "<style scoped>\n",
       "    .dataframe tbody tr th:only-of-type {\n",
       "        vertical-align: middle;\n",
       "    }\n",
       "\n",
       "    .dataframe tbody tr th {\n",
       "        vertical-align: top;\n",
       "    }\n",
       "\n",
       "    .dataframe thead th {\n",
       "        text-align: right;\n",
       "    }\n",
       "</style>\n",
       "<table border=\"1\" class=\"dataframe\">\n",
       "  <thead>\n",
       "    <tr style=\"text-align: right;\">\n",
       "      <th></th>\n",
       "      <th>Ones</th>\n",
       "      <th>X_mpca</th>\n",
       "    </tr>\n",
       "  </thead>\n",
       "  <tbody>\n",
       "    <tr>\n",
       "      <td>0</td>\n",
       "      <td>1</td>\n",
       "      <td>-1.421528</td>\n",
       "    </tr>\n",
       "    <tr>\n",
       "      <td>1</td>\n",
       "      <td>1</td>\n",
       "      <td>-2.411969</td>\n",
       "    </tr>\n",
       "    <tr>\n",
       "      <td>2</td>\n",
       "      <td>1</td>\n",
       "      <td>-1.393789</td>\n",
       "    </tr>\n",
       "    <tr>\n",
       "      <td>3</td>\n",
       "      <td>1</td>\n",
       "      <td>-1.330929</td>\n",
       "    </tr>\n",
       "    <tr>\n",
       "      <td>4</td>\n",
       "      <td>1</td>\n",
       "      <td>-1.693119</td>\n",
       "    </tr>\n",
       "    <tr>\n",
       "      <td>...</td>\n",
       "      <td>...</td>\n",
       "      <td>...</td>\n",
       "    </tr>\n",
       "    <tr>\n",
       "      <td>1523</td>\n",
       "      <td>1</td>\n",
       "      <td>-0.388357</td>\n",
       "    </tr>\n",
       "    <tr>\n",
       "      <td>1524</td>\n",
       "      <td>1</td>\n",
       "      <td>-0.268315</td>\n",
       "    </tr>\n",
       "    <tr>\n",
       "      <td>1525</td>\n",
       "      <td>1</td>\n",
       "      <td>-0.024871</td>\n",
       "    </tr>\n",
       "    <tr>\n",
       "      <td>1526</td>\n",
       "      <td>1</td>\n",
       "      <td>0.613325</td>\n",
       "    </tr>\n",
       "    <tr>\n",
       "      <td>1527</td>\n",
       "      <td>1</td>\n",
       "      <td>2.542407</td>\n",
       "    </tr>\n",
       "  </tbody>\n",
       "</table>\n",
       "<p>1528 rows × 2 columns</p>\n",
       "</div>"
      ],
      "text/plain": [
       "      Ones    X_mpca\n",
       "0        1 -1.421528\n",
       "1        1 -2.411969\n",
       "2        1 -1.393789\n",
       "3        1 -1.330929\n",
       "4        1 -1.693119\n",
       "...    ...       ...\n",
       "1523     1 -0.388357\n",
       "1524     1 -0.268315\n",
       "1525     1 -0.024871\n",
       "1526     1  0.613325\n",
       "1527     1  2.542407\n",
       "\n",
       "[1528 rows x 2 columns]"
      ]
     },
     "metadata": {},
     "output_type": "display_data"
    },
    {
     "data": {
      "text/html": [
       "<div>\n",
       "<style scoped>\n",
       "    .dataframe tbody tr th:only-of-type {\n",
       "        vertical-align: middle;\n",
       "    }\n",
       "\n",
       "    .dataframe tbody tr th {\n",
       "        vertical-align: top;\n",
       "    }\n",
       "\n",
       "    .dataframe thead th {\n",
       "        text-align: right;\n",
       "    }\n",
       "</style>\n",
       "<table border=\"1\" class=\"dataframe\">\n",
       "  <thead>\n",
       "    <tr style=\"text-align: right;\">\n",
       "      <th></th>\n",
       "      <th>Ones</th>\n",
       "      <th>X_fpca</th>\n",
       "    </tr>\n",
       "  </thead>\n",
       "  <tbody>\n",
       "    <tr>\n",
       "      <td>0</td>\n",
       "      <td>1</td>\n",
       "      <td>-1.040664</td>\n",
       "    </tr>\n",
       "    <tr>\n",
       "      <td>1</td>\n",
       "      <td>1</td>\n",
       "      <td>-0.804653</td>\n",
       "    </tr>\n",
       "    <tr>\n",
       "      <td>2</td>\n",
       "      <td>1</td>\n",
       "      <td>-0.806490</td>\n",
       "    </tr>\n",
       "    <tr>\n",
       "      <td>3</td>\n",
       "      <td>1</td>\n",
       "      <td>-0.445939</td>\n",
       "    </tr>\n",
       "    <tr>\n",
       "      <td>4</td>\n",
       "      <td>1</td>\n",
       "      <td>-1.287762</td>\n",
       "    </tr>\n",
       "    <tr>\n",
       "      <td>...</td>\n",
       "      <td>...</td>\n",
       "      <td>...</td>\n",
       "    </tr>\n",
       "    <tr>\n",
       "      <td>1302</td>\n",
       "      <td>1</td>\n",
       "      <td>0.078979</td>\n",
       "    </tr>\n",
       "    <tr>\n",
       "      <td>1303</td>\n",
       "      <td>1</td>\n",
       "      <td>-0.088409</td>\n",
       "    </tr>\n",
       "    <tr>\n",
       "      <td>1304</td>\n",
       "      <td>1</td>\n",
       "      <td>-1.267515</td>\n",
       "    </tr>\n",
       "    <tr>\n",
       "      <td>1305</td>\n",
       "      <td>1</td>\n",
       "      <td>-0.390240</td>\n",
       "    </tr>\n",
       "    <tr>\n",
       "      <td>1306</td>\n",
       "      <td>1</td>\n",
       "      <td>0.258222</td>\n",
       "    </tr>\n",
       "  </tbody>\n",
       "</table>\n",
       "<p>1307 rows × 2 columns</p>\n",
       "</div>"
      ],
      "text/plain": [
       "      Ones    X_fpca\n",
       "0        1 -1.040664\n",
       "1        1 -0.804653\n",
       "2        1 -0.806490\n",
       "3        1 -0.445939\n",
       "4        1 -1.287762\n",
       "...    ...       ...\n",
       "1302     1  0.078979\n",
       "1303     1 -0.088409\n",
       "1304     1 -1.267515\n",
       "1305     1 -0.390240\n",
       "1306     1  0.258222\n",
       "\n",
       "[1307 rows x 2 columns]"
      ]
     },
     "metadata": {},
     "output_type": "display_data"
    }
   ],
   "source": [
    "# Rerepresenting the original data set by a reduced linear combination equivalent based on the first Principal Component acting as the scalar weights multiplied with the predictor variables.\n",
    "X_fpca = pd.Series(eigv_f[:, 0] @ z_fpca.T) \n",
    "X_mpca = pd.Series(eigv_m[:, 0] @ z_mpca.T)\n",
    "\n",
    "# Create design matrix for OLS regression.\n",
    "X_mreg = pd.DataFrame(index = X_mpca.index, columns = ['Ones', 'X_mpca'])\n",
    "X_freg = pd.DataFrame(index = X_fpca.index, columns = ['Ones', 'X_fpca'])\n",
    "\n",
    "# Populating the \"ones\" column with \"1's\".\n",
    "X_mreg['Ones'] = 1\n",
    "X_freg['Ones'] = 1\n",
    "\n",
    "# Inserting the series containing the principal component into the remaining column.\n",
    "# Converted the object series to float data type enabling invocation of \"la.inv()\" method.\n",
    "X_mreg['X_mpca'] = X_mpca.astype(float).to_numpy()\n",
    "X_freg['X_fpca'] = X_fpca.astype(float).to_numpy()\n",
    "\n",
    "display(X_mreg, X_freg)"
   ]
  },
  {
   "cell_type": "markdown",
   "metadata": {},
   "source": [
    "#### Ordinary Least Squares Regression"
   ]
  },
  {
   "cell_type": "code",
   "execution_count": 74,
   "metadata": {},
   "outputs": [
    {
     "data": {
      "text/plain": [
       "0    10.705497\n",
       "1     0.861119\n",
       "dtype: float64"
      ]
     },
     "metadata": {},
     "output_type": "display_data"
    },
    {
     "data": {
      "text/plain": [
       "10.70549738219895"
      ]
     },
     "metadata": {},
     "output_type": "display_data"
    },
    {
     "data": {
      "text/plain": [
       "0.8611185093126142"
      ]
     },
     "metadata": {},
     "output_type": "display_data"
    },
    {
     "data": {
      "text/plain": [
       "0    11.129304\n",
       "1     0.633730\n",
       "dtype: float64"
      ]
     },
     "metadata": {},
     "output_type": "display_data"
    },
    {
     "data": {
      "text/plain": [
       "11.129303749043611"
      ]
     },
     "metadata": {},
     "output_type": "display_data"
    },
    {
     "data": {
      "text/plain": [
       "0.633730170640757"
      ]
     },
     "metadata": {},
     "output_type": "display_data"
    }
   ],
   "source": [
    "# Calculating the regression intercept and slope by hand.\n",
    "beta_hatm = la.inv(X_mreg.T @ X_mreg) @ X_mreg.T @ Aba_data_male['Ring Count']\n",
    "beta_hatf = la.inv(X_freg.T @ X_freg) @ X_freg.T @ Aba_data_female['Ring Count']\n",
    "\n",
    "# Double checking the mathematics with library based functions.\n",
    "ma, mb = np.polyfit(x = X_mreg['X_mpca'], y = Aba_data_male['Ring Count'], deg = 1 )\n",
    "fa, fb = np.polyfit(x = X_freg['X_fpca'], y = Aba_data_female['Ring Count'], deg = 1 )\n",
    "\n",
    "display(beta_hatm, mb, ma, beta_hatf, fb, fa)"
   ]
  },
  {
   "cell_type": "markdown",
   "metadata": {},
   "source": [
    "#### Visualizing PC1 and Ring Count Regression Lines"
   ]
  },
  {
   "cell_type": "code",
   "execution_count": 95,
   "metadata": {},
   "outputs": [
    {
     "data": {
      "image/png": "[encoded data removed]",
      "text/plain": [
       "<Figure size 720x432 with 2 Axes>"
      ]
     },
     "metadata": {
      "needs_background": "light"
     },
     "output_type": "display_data"
    }
   ],
   "source": [
    "# Visualization of ring count with the first Principal Component as the independent variable.\n",
    "red_msp = pd.DataFrame(index = Aba_data_male.index, columns = ['X_mpca', 'Ring Count'])\n",
    "red_msp['X_mpca'] = X_mpca\n",
    "red_msp['Ring Count'] = Aba_data_male['Ring Count']\n",
    "\n",
    "red_fsp = pd.DataFrame(index = Aba_data_female.index, columns = ['X_fpca', 'Ring Count'])\n",
    "red_fsp['X_fpca'] = X_fpca\n",
    "red_fsp['Ring Count'] = Aba_data_female['Ring Count']\n",
    "\n",
    "fig, axs = plt.subplots(1, 2, figsize = (10, 6))\n",
    "\n",
    "sns.scatterplot(data = red_msp, x = 'X_mpca', y = 'Ring Count', ax = axs[0]).set_title('Male Abalone')\n",
    "sns.scatterplot(data = red_fsp, x = 'X_fpca', y = 'Ring Count', ax = axs[1]).set_title('Female Abalone')\n",
    "\n",
    "axs[0].plot(red_msp['X_mpca'], beta_hatm[0] + beta_hatm[1]*red_msp['X_mpca'], color = 'r')\n",
    "axs[1].plot(red_fsp['X_fpca'], beta_hatf[0] + beta_hatf[1]*red_fsp['X_fpca'], color = 'r')\n",
    "\n",
    "plt.tight_layout()\n",
    "plt.show()"
   ]
  },
  {
   "cell_type": "markdown",
   "metadata": {},
   "source": [
    "#### Quantifying Data Point Influence on Regression"
   ]
  },
  {
   "cell_type": "markdown",
   "metadata": {},
   "source": [
    "Are there anymore observations that heavily pull the regression line away from the principal direction? Cook's Distance could come in handy here to discern changes of predicted age values; it's used to determine how much the average predicted ring count will change if any outlying observation is omitted in the regression."
   ]
  },
  {
   "cell_type": "code",
   "execution_count": 76,
   "metadata": {},
   "outputs": [
    {
     "data": {
      "text/plain": [
       "0       0.001379\n",
       "1       0.002741\n",
       "2       0.001351\n",
       "3       0.001290\n",
       "4       0.001683\n",
       "          ...   \n",
       "1523    0.000709\n",
       "1524    0.000680\n",
       "1525    0.000655\n",
       "1526    0.000789\n",
       "1527    0.002973\n",
       "Length: 1528, dtype: float64"
      ]
     },
     "metadata": {},
     "output_type": "display_data"
    },
    {
     "data": {
      "text/plain": [
       "0       0.001245\n",
       "1       0.001052\n",
       "2       0.001053\n",
       "3       0.000853\n",
       "4       0.001500\n",
       "          ...   \n",
       "1302    0.000768\n",
       "1303    0.000769\n",
       "1304    0.001477\n",
       "1305    0.000833\n",
       "1306    0.000795\n",
       "Length: 1307, dtype: float64"
      ]
     },
     "metadata": {},
     "output_type": "display_data"
    }
   ],
   "source": [
    "# Convert standardize design matrix to numpy array for matrix multiplication.\n",
    "ckm = X_mreg.to_numpy()\n",
    "ckf = X_freg.to_numpy()\n",
    "\n",
    "# Hat matrix for future calculations.\n",
    "H_male =  ckm @ la.inv(ckm.T @ ckm) @ ckm.T\n",
    "H_female = ckf @ la.inv(ckf.T @ ckf) @ ckf.T\n",
    "\n",
    "# Diagonal entries of male and female Hat matrix.\n",
    "H_mdiag = pd.Series(H_male.diagonal())\n",
    "H_fdiag = pd.Series(H_female.diagonal())\n",
    "\n",
    "display(H_mdiag, H_fdiag)"
   ]
  },
  {
   "cell_type": "code",
   "execution_count": 77,
   "metadata": {},
   "outputs": [
    {
     "name": "stdout",
     "output_type": "stream",
     "text": [
      "11918.390024359061 11678.347182076832\n"
     ]
    }
   ],
   "source": [
    "# Mean Square Error\n",
    "y_m = Aba_data_male['Ring Count'].to_numpy()\n",
    "y_f = Aba_data_female['Ring Count'].to_numpy()\n",
    "\n",
    "MSE_male = y_m.T @ (np.identity(len(H_male)) - H_male) @ y_m\n",
    "MSE_female = y_f.T @ (np.identity(len(H_female)) - H_female) @ y_f\n",
    "\n",
    "print(MSE_male, MSE_female)"
   ]
  },
  {
   "cell_type": "code",
   "execution_count": 78,
   "metadata": {},
   "outputs": [
    {
     "data": {
      "text/plain": [
       "0       5.518607\n",
       "1      -1.628506\n",
       "2       0.494720\n",
       "3      -0.559410\n",
       "4       0.752479\n",
       "          ...   \n",
       "1523   -0.371076\n",
       "1524   -2.474446\n",
       "1525   -0.684080\n",
       "1526   -2.233643\n",
       "1527   -0.894811\n",
       "Length: 1528, dtype: float64"
      ]
     },
     "metadata": {},
     "output_type": "display_data"
    },
    {
     "data": {
      "text/plain": [
       "0      -0.809363\n",
       "1       9.987404\n",
       "2       5.988986\n",
       "3       8.678509\n",
       "4       4.403418\n",
       "          ...   \n",
       "1302    0.226493\n",
       "1303    0.370633\n",
       "1304   -1.614017\n",
       "1305    0.630546\n",
       "1306   -0.927858\n",
       "Length: 1307, dtype: float64"
      ]
     },
     "metadata": {},
     "output_type": "display_data"
    }
   ],
   "source": [
    "# Raw Residuals.\n",
    "res_mraw = pd.Series(index = Aba_data_male.index)\n",
    "res_fraw = pd.Series(index = Aba_data_female.index)\n",
    "\n",
    "for r in res_mraw.index:\n",
    "    res_mraw.loc[r] = red_msp.loc[r, 'Ring Count'] - (beta_hatm[0] + beta_hatm[1]*red_msp.loc[r, 'X_mpca'])\n",
    "    \n",
    "for r in res_fraw.index:\n",
    "    res_fraw.loc[r] = red_fsp.loc[r, 'Ring Count'] - (beta_hatm[0] + beta_hatm[1]*red_fsp.loc[r, 'X_fpca'])\n",
    "    \n",
    "display(res_mraw, res_fraw)"
   ]
  },
  {
   "cell_type": "code",
   "execution_count": 79,
   "metadata": {},
   "outputs": [
    {
     "data": {
      "text/html": [
       "<div>\n",
       "<style scoped>\n",
       "    .dataframe tbody tr th:only-of-type {\n",
       "        vertical-align: middle;\n",
       "    }\n",
       "\n",
       "    .dataframe tbody tr th {\n",
       "        vertical-align: top;\n",
       "    }\n",
       "\n",
       "    .dataframe thead th {\n",
       "        text-align: right;\n",
       "    }\n",
       "</style>\n",
       "<table border=\"1\" class=\"dataframe\">\n",
       "  <thead>\n",
       "    <tr style=\"text-align: right;\">\n",
       "      <th></th>\n",
       "      <th>Residual</th>\n",
       "      <th>Hat Diagonal</th>\n",
       "      <th>r-Square</th>\n",
       "      <th>Cook's Distance</th>\n",
       "    </tr>\n",
       "  </thead>\n",
       "  <tbody>\n",
       "    <tr>\n",
       "      <td>0</td>\n",
       "      <td>5.518607</td>\n",
       "      <td>0.001379</td>\n",
       "      <td>0.00255883</td>\n",
       "      <td>1.7672e-06</td>\n",
       "    </tr>\n",
       "    <tr>\n",
       "      <td>1</td>\n",
       "      <td>-1.628506</td>\n",
       "      <td>0.002741</td>\n",
       "      <td>0.000223128</td>\n",
       "      <td>3.06681e-07</td>\n",
       "    </tr>\n",
       "    <tr>\n",
       "      <td>2</td>\n",
       "      <td>0.494720</td>\n",
       "      <td>0.001351</td>\n",
       "      <td>2.05631e-05</td>\n",
       "      <td>1.39127e-08</td>\n",
       "    </tr>\n",
       "    <tr>\n",
       "      <td>3</td>\n",
       "      <td>-0.559410</td>\n",
       "      <td>0.001290</td>\n",
       "      <td>2.62908e-05</td>\n",
       "      <td>1.69781e-08</td>\n",
       "    </tr>\n",
       "    <tr>\n",
       "      <td>4</td>\n",
       "      <td>0.752479</td>\n",
       "      <td>0.001683</td>\n",
       "      <td>4.75886e-05</td>\n",
       "      <td>4.01086e-08</td>\n",
       "    </tr>\n",
       "    <tr>\n",
       "      <td>...</td>\n",
       "      <td>...</td>\n",
       "      <td>...</td>\n",
       "      <td>...</td>\n",
       "      <td>...</td>\n",
       "    </tr>\n",
       "    <tr>\n",
       "      <td>1523</td>\n",
       "      <td>-0.371076</td>\n",
       "      <td>0.000709</td>\n",
       "      <td>1.15616e-05</td>\n",
       "      <td>4.0989e-09</td>\n",
       "    </tr>\n",
       "    <tr>\n",
       "      <td>1524</td>\n",
       "      <td>-2.474446</td>\n",
       "      <td>0.000680</td>\n",
       "      <td>0.000514084</td>\n",
       "      <td>1.74979e-07</td>\n",
       "    </tr>\n",
       "    <tr>\n",
       "      <td>1525</td>\n",
       "      <td>-0.684080</td>\n",
       "      <td>0.000655</td>\n",
       "      <td>3.92899e-05</td>\n",
       "      <td>1.28694e-08</td>\n",
       "    </tr>\n",
       "    <tr>\n",
       "      <td>1526</td>\n",
       "      <td>-2.233643</td>\n",
       "      <td>0.000789</td>\n",
       "      <td>0.000418941</td>\n",
       "      <td>1.65485e-07</td>\n",
       "    </tr>\n",
       "    <tr>\n",
       "      <td>1527</td>\n",
       "      <td>-0.894811</td>\n",
       "      <td>0.002973</td>\n",
       "      <td>6.73812e-05</td>\n",
       "      <td>1.00468e-07</td>\n",
       "    </tr>\n",
       "  </tbody>\n",
       "</table>\n",
       "<p>1528 rows × 4 columns</p>\n",
       "</div>"
      ],
      "text/plain": [
       "      Residual  Hat Diagonal     r-Square Cook's Distance\n",
       "0     5.518607      0.001379   0.00255883      1.7672e-06\n",
       "1    -1.628506      0.002741  0.000223128     3.06681e-07\n",
       "2     0.494720      0.001351  2.05631e-05     1.39127e-08\n",
       "3    -0.559410      0.001290  2.62908e-05     1.69781e-08\n",
       "4     0.752479      0.001683  4.75886e-05     4.01086e-08\n",
       "...        ...           ...          ...             ...\n",
       "1523 -0.371076      0.000709  1.15616e-05      4.0989e-09\n",
       "1524 -2.474446      0.000680  0.000514084     1.74979e-07\n",
       "1525 -0.684080      0.000655  3.92899e-05     1.28694e-08\n",
       "1526 -2.233643      0.000789  0.000418941     1.65485e-07\n",
       "1527 -0.894811      0.002973  6.73812e-05     1.00468e-07\n",
       "\n",
       "[1528 rows x 4 columns]"
      ]
     },
     "metadata": {},
     "output_type": "display_data"
    },
    {
     "data": {
      "text/html": [
       "<div>\n",
       "<style scoped>\n",
       "    .dataframe tbody tr th:only-of-type {\n",
       "        vertical-align: middle;\n",
       "    }\n",
       "\n",
       "    .dataframe tbody tr th {\n",
       "        vertical-align: top;\n",
       "    }\n",
       "\n",
       "    .dataframe thead th {\n",
       "        text-align: right;\n",
       "    }\n",
       "</style>\n",
       "<table border=\"1\" class=\"dataframe\">\n",
       "  <thead>\n",
       "    <tr style=\"text-align: right;\">\n",
       "      <th></th>\n",
       "      <th>Residual</th>\n",
       "      <th>Hat Diagonal</th>\n",
       "      <th>r-Square</th>\n",
       "      <th>Cook's Distance</th>\n",
       "    </tr>\n",
       "  </thead>\n",
       "  <tbody>\n",
       "    <tr>\n",
       "      <td>0</td>\n",
       "      <td>-0.809363</td>\n",
       "      <td>0.001245</td>\n",
       "      <td>5.61624e-05</td>\n",
       "      <td>3.49977e-08</td>\n",
       "    </tr>\n",
       "    <tr>\n",
       "      <td>1</td>\n",
       "      <td>9.987404</td>\n",
       "      <td>0.001052</td>\n",
       "      <td>0.00855029</td>\n",
       "      <td>4.50163e-06</td>\n",
       "    </tr>\n",
       "    <tr>\n",
       "      <td>2</td>\n",
       "      <td>5.988986</td>\n",
       "      <td>0.001053</td>\n",
       "      <td>0.00307456</td>\n",
       "      <td>1.62074e-06</td>\n",
       "    </tr>\n",
       "    <tr>\n",
       "      <td>3</td>\n",
       "      <td>8.678509</td>\n",
       "      <td>0.000853</td>\n",
       "      <td>0.00645475</td>\n",
       "      <td>2.7559e-06</td>\n",
       "    </tr>\n",
       "    <tr>\n",
       "      <td>4</td>\n",
       "      <td>4.403418</td>\n",
       "      <td>0.001500</td>\n",
       "      <td>0.00166284</td>\n",
       "      <td>1.24865e-06</td>\n",
       "    </tr>\n",
       "    <tr>\n",
       "      <td>...</td>\n",
       "      <td>...</td>\n",
       "      <td>...</td>\n",
       "      <td>...</td>\n",
       "      <td>...</td>\n",
       "    </tr>\n",
       "    <tr>\n",
       "      <td>1302</td>\n",
       "      <td>0.226493</td>\n",
       "      <td>0.000768</td>\n",
       "      <td>4.39603e-06</td>\n",
       "      <td>1.68909e-09</td>\n",
       "    </tr>\n",
       "    <tr>\n",
       "      <td>1303</td>\n",
       "      <td>0.370633</td>\n",
       "      <td>0.000769</td>\n",
       "      <td>1.17718e-05</td>\n",
       "      <td>4.5272e-09</td>\n",
       "    </tr>\n",
       "    <tr>\n",
       "      <td>1304</td>\n",
       "      <td>-1.614017</td>\n",
       "      <td>0.001477</td>\n",
       "      <td>0.000223397</td>\n",
       "      <td>1.65184e-07</td>\n",
       "    </tr>\n",
       "    <tr>\n",
       "      <td>1305</td>\n",
       "      <td>0.630546</td>\n",
       "      <td>0.000833</td>\n",
       "      <td>3.40732e-05</td>\n",
       "      <td>1.41958e-08</td>\n",
       "    </tr>\n",
       "    <tr>\n",
       "      <td>1306</td>\n",
       "      <td>-0.927858</td>\n",
       "      <td>0.000795</td>\n",
       "      <td>7.37779e-05</td>\n",
       "      <td>2.93368e-08</td>\n",
       "    </tr>\n",
       "  </tbody>\n",
       "</table>\n",
       "<p>1307 rows × 4 columns</p>\n",
       "</div>"
      ],
      "text/plain": [
       "      Residual  Hat Diagonal     r-Square Cook's Distance\n",
       "0    -0.809363      0.001245  5.61624e-05     3.49977e-08\n",
       "1     9.987404      0.001052   0.00855029     4.50163e-06\n",
       "2     5.988986      0.001053   0.00307456     1.62074e-06\n",
       "3     8.678509      0.000853   0.00645475      2.7559e-06\n",
       "4     4.403418      0.001500   0.00166284     1.24865e-06\n",
       "...        ...           ...          ...             ...\n",
       "1302  0.226493      0.000768  4.39603e-06     1.68909e-09\n",
       "1303  0.370633      0.000769  1.17718e-05      4.5272e-09\n",
       "1304 -1.614017      0.001477  0.000223397     1.65184e-07\n",
       "1305  0.630546      0.000833  3.40732e-05     1.41958e-08\n",
       "1306 -0.927858      0.000795  7.37779e-05     2.93368e-08\n",
       "\n",
       "[1307 rows x 4 columns]"
      ]
     },
     "metadata": {},
     "output_type": "display_data"
    },
    {
     "data": {
      "text/html": [
       "<div>\n",
       "<style scoped>\n",
       "    .dataframe tbody tr th:only-of-type {\n",
       "        vertical-align: middle;\n",
       "    }\n",
       "\n",
       "    .dataframe tbody tr th {\n",
       "        vertical-align: top;\n",
       "    }\n",
       "\n",
       "    .dataframe thead th {\n",
       "        text-align: right;\n",
       "    }\n",
       "</style>\n",
       "<table border=\"1\" class=\"dataframe\">\n",
       "  <thead>\n",
       "    <tr style=\"text-align: right;\">\n",
       "      <th></th>\n",
       "      <th>Residual</th>\n",
       "      <th>Hat Diagonal</th>\n",
       "      <th>r-Square</th>\n",
       "      <th>Cook's Distance</th>\n",
       "    </tr>\n",
       "  </thead>\n",
       "  <tbody>\n",
       "  </tbody>\n",
       "</table>\n",
       "</div>"
      ],
      "text/plain": [
       "Empty DataFrame\n",
       "Columns: [Residual, Hat Diagonal, r-Square, Cook's Distance]\n",
       "Index: []"
      ]
     },
     "metadata": {},
     "output_type": "display_data"
    },
    {
     "data": {
      "text/html": [
       "<div>\n",
       "<style scoped>\n",
       "    .dataframe tbody tr th:only-of-type {\n",
       "        vertical-align: middle;\n",
       "    }\n",
       "\n",
       "    .dataframe tbody tr th {\n",
       "        vertical-align: top;\n",
       "    }\n",
       "\n",
       "    .dataframe thead th {\n",
       "        text-align: right;\n",
       "    }\n",
       "</style>\n",
       "<table border=\"1\" class=\"dataframe\">\n",
       "  <thead>\n",
       "    <tr style=\"text-align: right;\">\n",
       "      <th></th>\n",
       "      <th>Residual</th>\n",
       "      <th>Hat Diagonal</th>\n",
       "      <th>r-Square</th>\n",
       "      <th>Cook's Distance</th>\n",
       "    </tr>\n",
       "  </thead>\n",
       "  <tbody>\n",
       "  </tbody>\n",
       "</table>\n",
       "</div>"
      ],
      "text/plain": [
       "Empty DataFrame\n",
       "Columns: [Residual, Hat Diagonal, r-Square, Cook's Distance]\n",
       "Index: []"
      ]
     },
     "metadata": {},
     "output_type": "display_data"
    }
   ],
   "source": [
    "# Creating empty dataframe for Cook's Distance calculations.\n",
    "cook_m = pd.DataFrame(index = Aba_data_male.index, columns = ['Residual', 'Hat Diagonal', 'r-Square', \"Cook's Distance\"])\n",
    "cook_f = pd.DataFrame(index = Aba_data_female.index, columns = ['Residual', 'Hat Diagonal', 'r-Square', \"Cook's Distance\"])\n",
    "\n",
    "# Inserting residuals into the once empty dataframe.\n",
    "cook_m['Residual'] = res_mraw\n",
    "cook_f['Residual'] = res_fraw\n",
    "\n",
    "# Inserting the diagonal of the projection matrix into dataframe.\n",
    "cook_m['Hat Diagonal'] = H_mdiag\n",
    "cook_f['Hat Diagonal'] = H_fdiag\n",
    "\n",
    "# The number of predictor variables used in the OLS.\n",
    "k = 1\n",
    "\n",
    "# Computing the remaining r-Square values and Cook's Distance.\n",
    "for i in cook_m.index:\n",
    "    cook_m.loc[i, 'r-Square'] = (cook_m.loc[i, 'Residual'] / math.sqrt(MSE_male * (1 - cook_m.loc[i, 'Hat Diagonal'])))**2\n",
    "    cook_m.loc[i, \"Cook's Distance\"] = (cook_m.loc[i, 'r-Square'] / (k + 1)) * (cook_m.loc[i, 'Hat Diagonal'] / (1 - cook_m.loc[i, 'Hat Diagonal']))\n",
    "\n",
    "for j in cook_f.index:\n",
    "    cook_f.loc[j, 'r-Square'] = (cook_f.loc[j, 'Residual'] / math.sqrt(MSE_female * (1 - cook_f.loc[j, 'Hat Diagonal'])))**2\n",
    "    cook_f.loc[j, \"Cook's Distance\"] = (cook_f.loc[j, 'r-Square'] / (k + 1)) * (cook_f.loc[j, 'Hat Diagonal'] / (1 - cook_f.loc[j, 'Hat Diagonal']))\n",
    "\n",
    "# Cook's Distance is compared to the 50th percentile of an F-distribution with parameters of (df1 = k + 1, df2 = n - (k + 1)).\n",
    "q_m50 = st.f.ppf(.5, k + 1, len(cook_m) - (k + 1))\n",
    "q_f50 = st.f.ppf(.5, k + 1, len(cook_f) - (k + 1))\n",
    "\n",
    "# Here I'm being more stringent with the cut off point in evaluating if a Cook's Distance value is greater than the 20th percentile as being influential.\n",
    "q_m20 = st.f.ppf(.2, k + 1, len(cook_m) - (k + 1))\n",
    "q_f20 = st.f.ppf(.2, k + 1, len(cook_f) - (k + 1))\n",
    "\n",
    "display(cook_m, cook_f)\n",
    "display(cook_m[cook_m[\"Cook's Distance\"] > q_m20])\n",
    "display(cook_f[cook_f[\"Cook's Distance\"] > q_f20])"
   ]
  },
  {
   "cell_type": "markdown",
   "metadata": {},
   "source": [
    "The empty dataframes show that there are no outlying response points based on the average residual. The graphics support this notion. The distance between the predicted age and observed age at a particular 'X_mpca'/'X_fpca' value is within the average observed distances, so I will not see any large Cook's Distance values even though I have confirmed visually a single data point is highly leveraging the regression line. There are no outliers for either data sets.\n",
    "<br>\n",
    "\n",
    "I want to determine next how much this single data point is affecting the regression coefficient with the use of DFBETA method. This technique is a measure of the estimation of regression coefficients with a data point out. Looping through the entire data structure using this method, I can see what the difference is for all entries taken out one at a time. Since I visually identified a high leverage data point, I can go and extract that unique case to compare with the current coefficient estimates using returned results."
   ]
  },
  {
   "cell_type": "code",
   "execution_count": 82,
   "metadata": {},
   "outputs": [
    {
     "data": {
      "text/html": [
       "<div>\n",
       "<style scoped>\n",
       "    .dataframe tbody tr th:only-of-type {\n",
       "        vertical-align: middle;\n",
       "    }\n",
       "\n",
       "    .dataframe tbody tr th {\n",
       "        vertical-align: top;\n",
       "    }\n",
       "\n",
       "    .dataframe thead th {\n",
       "        text-align: right;\n",
       "    }\n",
       "</style>\n",
       "<table border=\"1\" class=\"dataframe\">\n",
       "  <thead>\n",
       "    <tr style=\"text-align: right;\">\n",
       "      <th></th>\n",
       "      <th>X_mpca</th>\n",
       "      <th>Ring Count</th>\n",
       "      <th>Intercept</th>\n",
       "      <th>Slope</th>\n",
       "    </tr>\n",
       "  </thead>\n",
       "  <tbody>\n",
       "    <tr>\n",
       "      <td>0</td>\n",
       "      <td>-1.42153</td>\n",
       "      <td>15</td>\n",
       "      <td>0.00361664</td>\n",
       "      <td>-0.00281807</td>\n",
       "    </tr>\n",
       "    <tr>\n",
       "      <td>1</td>\n",
       "      <td>-2.41197</td>\n",
       "      <td>7</td>\n",
       "      <td>-0.00106871</td>\n",
       "      <td>0.00141293</td>\n",
       "    </tr>\n",
       "    <tr>\n",
       "      <td>2</td>\n",
       "      <td>-1.39379</td>\n",
       "      <td>10</td>\n",
       "      <td>0.000324208</td>\n",
       "      <td>-0.000247692</td>\n",
       "    </tr>\n",
       "    <tr>\n",
       "      <td>3</td>\n",
       "      <td>-1.33093</td>\n",
       "      <td>9</td>\n",
       "      <td>-0.000366579</td>\n",
       "      <td>0.000267432</td>\n",
       "    </tr>\n",
       "    <tr>\n",
       "      <td>4</td>\n",
       "      <td>-1.69312</td>\n",
       "      <td>10</td>\n",
       "      <td>0.00049329</td>\n",
       "      <td>-0.000457806</td>\n",
       "    </tr>\n",
       "    <tr>\n",
       "      <td>...</td>\n",
       "      <td>...</td>\n",
       "      <td>...</td>\n",
       "      <td>...</td>\n",
       "      <td>...</td>\n",
       "    </tr>\n",
       "    <tr>\n",
       "      <td>1523</td>\n",
       "      <td>-0.388357</td>\n",
       "      <td>10</td>\n",
       "      <td>-0.000243023</td>\n",
       "      <td>5.17332e-05</td>\n",
       "    </tr>\n",
       "    <tr>\n",
       "      <td>1524</td>\n",
       "      <td>-0.268315</td>\n",
       "      <td>8</td>\n",
       "      <td>-0.0016205</td>\n",
       "      <td>0.000238335</td>\n",
       "    </tr>\n",
       "    <tr>\n",
       "      <td>1525</td>\n",
       "      <td>-0.0248711</td>\n",
       "      <td>10</td>\n",
       "      <td>-0.00044799</td>\n",
       "      <td>6.10737e-06</td>\n",
       "    </tr>\n",
       "    <tr>\n",
       "      <td>1526</td>\n",
       "      <td>0.613325</td>\n",
       "      <td>9</td>\n",
       "      <td>-0.00146296</td>\n",
       "      <td>-0.000491831</td>\n",
       "    </tr>\n",
       "    <tr>\n",
       "      <td>1527</td>\n",
       "      <td>2.54241</td>\n",
       "      <td>12</td>\n",
       "      <td>-0.000587356</td>\n",
       "      <td>-0.000818535</td>\n",
       "    </tr>\n",
       "  </tbody>\n",
       "</table>\n",
       "<p>1528 rows × 4 columns</p>\n",
       "</div>"
      ],
      "text/plain": [
       "         X_mpca  Ring Count    Intercept        Slope\n",
       "0      -1.42153          15   0.00361664  -0.00281807\n",
       "1      -2.41197           7  -0.00106871   0.00141293\n",
       "2      -1.39379          10  0.000324208 -0.000247692\n",
       "3      -1.33093           9 -0.000366579  0.000267432\n",
       "4      -1.69312          10   0.00049329 -0.000457806\n",
       "...         ...         ...          ...          ...\n",
       "1523  -0.388357          10 -0.000243023  5.17332e-05\n",
       "1524  -0.268315           8   -0.0016205  0.000238335\n",
       "1525 -0.0248711          10  -0.00044799  6.10737e-06\n",
       "1526   0.613325           9  -0.00146296 -0.000491831\n",
       "1527    2.54241          12 -0.000587356 -0.000818535\n",
       "\n",
       "[1528 rows x 4 columns]"
      ]
     },
     "metadata": {},
     "output_type": "display_data"
    },
    {
     "data": {
      "text/html": [
       "<div>\n",
       "<style scoped>\n",
       "    .dataframe tbody tr th:only-of-type {\n",
       "        vertical-align: middle;\n",
       "    }\n",
       "\n",
       "    .dataframe tbody tr th {\n",
       "        vertical-align: top;\n",
       "    }\n",
       "\n",
       "    .dataframe thead th {\n",
       "        text-align: right;\n",
       "    }\n",
       "</style>\n",
       "<table border=\"1\" class=\"dataframe\">\n",
       "  <thead>\n",
       "    <tr style=\"text-align: right;\">\n",
       "      <th></th>\n",
       "      <th>X_fpca</th>\n",
       "      <th>Ring Count</th>\n",
       "      <th>Intercept</th>\n",
       "      <th>Slope</th>\n",
       "    </tr>\n",
       "  </thead>\n",
       "  <tbody>\n",
       "    <tr>\n",
       "      <td>0</td>\n",
       "      <td>-1.04066</td>\n",
       "      <td>9</td>\n",
       "      <td>-0.000620024</td>\n",
       "      <td>0.000373501</td>\n",
       "    </tr>\n",
       "    <tr>\n",
       "      <td>1</td>\n",
       "      <td>-0.804653</td>\n",
       "      <td>20</td>\n",
       "      <td>0.00764952</td>\n",
       "      <td>-0.003563</td>\n",
       "    </tr>\n",
       "    <tr>\n",
       "      <td>2</td>\n",
       "      <td>-0.80649</td>\n",
       "      <td>16</td>\n",
       "      <td>0.00458707</td>\n",
       "      <td>-0.00214144</td>\n",
       "    </tr>\n",
       "    <tr>\n",
       "      <td>3</td>\n",
       "      <td>-0.445939</td>\n",
       "      <td>19</td>\n",
       "      <td>0.00664569</td>\n",
       "      <td>-0.00171549</td>\n",
       "    </tr>\n",
       "    <tr>\n",
       "      <td>4</td>\n",
       "      <td>-1.28776</td>\n",
       "      <td>14</td>\n",
       "      <td>0.00337416</td>\n",
       "      <td>-0.00251521</td>\n",
       "    </tr>\n",
       "    <tr>\n",
       "      <td>...</td>\n",
       "      <td>...</td>\n",
       "      <td>...</td>\n",
       "      <td>...</td>\n",
       "      <td>...</td>\n",
       "    </tr>\n",
       "    <tr>\n",
       "      <td>1302</td>\n",
       "      <td>0.0789785</td>\n",
       "      <td>11</td>\n",
       "      <td>0.000173425</td>\n",
       "      <td>7.92856e-06</td>\n",
       "    </tr>\n",
       "    <tr>\n",
       "      <td>1303</td>\n",
       "      <td>-0.088409</td>\n",
       "      <td>11</td>\n",
       "      <td>0.000283794</td>\n",
       "      <td>-1.45235e-05</td>\n",
       "    </tr>\n",
       "    <tr>\n",
       "      <td>1304</td>\n",
       "      <td>-1.26751</td>\n",
       "      <td>8</td>\n",
       "      <td>-0.00123673</td>\n",
       "      <td>0.000907402</td>\n",
       "    </tr>\n",
       "    <tr>\n",
       "      <td>1305</td>\n",
       "      <td>-0.39024</td>\n",
       "      <td>11</td>\n",
       "      <td>0.000482839</td>\n",
       "      <td>-0.00010907</td>\n",
       "    </tr>\n",
       "    <tr>\n",
       "      <td>1306</td>\n",
       "      <td>0.258222</td>\n",
       "      <td>10</td>\n",
       "      <td>-0.000710479</td>\n",
       "      <td>-0.000106198</td>\n",
       "    </tr>\n",
       "  </tbody>\n",
       "</table>\n",
       "<p>1307 rows × 4 columns</p>\n",
       "</div>"
      ],
      "text/plain": [
       "         X_fpca  Ring Count    Intercept        Slope\n",
       "0      -1.04066           9 -0.000620024  0.000373501\n",
       "1     -0.804653          20   0.00764952    -0.003563\n",
       "2      -0.80649          16   0.00458707  -0.00214144\n",
       "3     -0.445939          19   0.00664569  -0.00171549\n",
       "4      -1.28776          14   0.00337416  -0.00251521\n",
       "...         ...         ...          ...          ...\n",
       "1302  0.0789785          11  0.000173425  7.92856e-06\n",
       "1303  -0.088409          11  0.000283794 -1.45235e-05\n",
       "1304   -1.26751           8  -0.00123673  0.000907402\n",
       "1305   -0.39024          11  0.000482839  -0.00010907\n",
       "1306   0.258222          10 -0.000710479 -0.000106198\n",
       "\n",
       "[1307 rows x 4 columns]"
      ]
     },
     "metadata": {},
     "output_type": "display_data"
    }
   ],
   "source": [
    "DFBETA_m = pd.DataFrame(index = Aba_data_male.index, columns = ['X_mpca', 'Ring Count', 'Intercept', 'Slope'])\n",
    "DFBETA_f = pd.DataFrame(index = Aba_data_female.index, columns = ['X_fpca', 'Ring Count', 'Intercept', 'Slope'])\n",
    "\n",
    "DFBETA_m['X_mpca'] = X_mpca\n",
    "DFBETA_f['X_fpca'] = X_fpca\n",
    "\n",
    "DFBETA_m['Ring Count'] = Aba_data_male['Ring Count']\n",
    "DFBETA_f['Ring Count'] = Aba_data_female['Ring Count']\n",
    "\n",
    "gram_invm = la.inv(X_mreg.T @ X_mreg)\n",
    "gram_invf = la.inv(X_freg.T @ X_freg)\n",
    "\n",
    "for i in DFBETA_m.index:\n",
    "    DFBETA_m.loc[i, ['Intercept', 'Slope']] = (gram_invm @ X_mreg.iloc[i].T * res_mraw.iloc[i]) / (1 - X_mreg.iloc[i] @ gram_invm @ X_mreg.iloc[i].T)\n",
    "    \n",
    "for i in DFBETA_f.index:\n",
    "    DFBETA_f.loc[i, ['Intercept', 'Slope']] = (gram_invf @ X_freg.iloc[i].T * res_fraw.iloc[i]) / (1 - X_freg.iloc[i] @ gram_invf @ X_freg.iloc[i].T)\n",
    "\n",
    "display(DFBETA_m, DFBETA_f)"
   ]
  },
  {
   "cell_type": "markdown",
   "metadata": {},
   "source": [
    "The DFBETA slopes at the the high leverage data point are much larger than anywhere else. \n",
    "<br>\n",
    "Graph dot plot to see.\n",
    "<br>\n",
    "\n",
    "$h_{ii}$ $>$ $3 (\\frac{k+1}{n})$"
   ]
  },
  {
   "cell_type": "code",
   "execution_count": 96,
   "metadata": {},
   "outputs": [
    {
     "data": {
      "text/plain": [
       "0.003926701570680628"
      ]
     },
     "metadata": {},
     "output_type": "display_data"
    },
    {
     "data": {
      "text/plain": [
       "0.0045906656465187455"
      ]
     },
     "metadata": {},
     "output_type": "display_data"
    },
    {
     "data": {
      "image/png": "[encoded data removed]",
      "text/plain": [
       "<Figure size 720x432 with 2 Axes>"
      ]
     },
     "metadata": {
      "needs_background": "light"
     },
     "output_type": "display_data"
    }
   ],
   "source": [
    "k = 1\n",
    "\n",
    "prex_m = 3*(k+1)/len(DFBETA_m)\n",
    "prex_f = 3*(k+1)/len(DFBETA_f)\n",
    "\n",
    "display(prex_m, prex_f)\n",
    "\n",
    "fig, axs = plt.subplots(1, 2, figsize = (10, 6))\n",
    "\n",
    "sns.scatterplot(x = DFBETA_m.index, y = H_mdiag, marker = 'X', ax = axs[0])\n",
    "sns.scatterplot(x = DFBETA_f.index, y = H_fdiag, marker = '+', ax = axs[1])\n",
    "\n",
    "axs[0].axhline(y = prex_m, color = 'r', linestyle = '-')\n",
    "axs[1].axhline(y = prex_f, color = 'r', linestyle = '-')\n",
    "\n",
    "axs[0].set_xlabel('Obs. Number')\n",
    "axs[0].set_ylabel('Leverage')\n",
    "axs[0].set_title('Male Abalone')\n",
    "\n",
    "axs[1].set_xlabel('Obs. Number')\n",
    "axs[1].set_ylabel('Leverage')\n",
    "axs[1].set_title('Female Abalone')\n",
    "\n",
    "plt.tight_layout()\n",
    "\n",
    "plt.show()"
   ]
  },
  {
   "cell_type": "markdown",
   "metadata": {},
   "source": [
    "#### Regression with Omitted High Leverage Points"
   ]
  },
  {
   "cell_type": "code",
   "execution_count": 124,
   "metadata": {},
   "outputs": [
    {
     "data": {
      "text/html": [
       "<div>\n",
       "<style scoped>\n",
       "    .dataframe tbody tr th:only-of-type {\n",
       "        vertical-align: middle;\n",
       "    }\n",
       "\n",
       "    .dataframe tbody tr th {\n",
       "        vertical-align: top;\n",
       "    }\n",
       "\n",
       "    .dataframe thead th {\n",
       "        text-align: right;\n",
       "    }\n",
       "</style>\n",
       "<table border=\"1\" class=\"dataframe\">\n",
       "  <thead>\n",
       "    <tr style=\"text-align: right;\">\n",
       "      <th></th>\n",
       "      <th>Length</th>\n",
       "      <th>Diameter</th>\n",
       "      <th>Height</th>\n",
       "      <th>Whole Weight</th>\n",
       "    </tr>\n",
       "  </thead>\n",
       "  <tbody>\n",
       "    <tr>\n",
       "      <td>Length</td>\n",
       "      <td>354.151472</td>\n",
       "      <td>285.169137</td>\n",
       "      <td>97.561116</td>\n",
       "      <td>1503.810380</td>\n",
       "    </tr>\n",
       "    <tr>\n",
       "      <td>Diameter</td>\n",
       "      <td>285.169137</td>\n",
       "      <td>239.947439</td>\n",
       "      <td>81.211590</td>\n",
       "      <td>1228.233019</td>\n",
       "    </tr>\n",
       "    <tr>\n",
       "      <td>Height</td>\n",
       "      <td>97.561116</td>\n",
       "      <td>81.211590</td>\n",
       "      <td>39.045357</td>\n",
       "      <td>457.277362</td>\n",
       "    </tr>\n",
       "    <tr>\n",
       "      <td>Whole Weight</td>\n",
       "      <td>1503.810380</td>\n",
       "      <td>1228.233019</td>\n",
       "      <td>457.277362</td>\n",
       "      <td>7383.114814</td>\n",
       "    </tr>\n",
       "  </tbody>\n",
       "</table>\n",
       "</div>"
      ],
      "text/plain": [
       "                   Length     Diameter      Height  Whole Weight\n",
       "Length         354.151472   285.169137   97.561116   1503.810380\n",
       "Diameter       285.169137   239.947439   81.211590   1228.233019\n",
       "Height          97.561116    81.211590   39.045357    457.277362\n",
       "Whole Weight  1503.810380  1228.233019  457.277362   7383.114814"
      ]
     },
     "metadata": {},
     "output_type": "display_data"
    },
    {
     "data": {
      "text/html": [
       "<div>\n",
       "<style scoped>\n",
       "    .dataframe tbody tr th:only-of-type {\n",
       "        vertical-align: middle;\n",
       "    }\n",
       "\n",
       "    .dataframe tbody tr th {\n",
       "        vertical-align: top;\n",
       "    }\n",
       "\n",
       "    .dataframe thead th {\n",
       "        text-align: right;\n",
       "    }\n",
       "</style>\n",
       "<table border=\"1\" class=\"dataframe\">\n",
       "  <thead>\n",
       "    <tr style=\"text-align: right;\">\n",
       "      <th></th>\n",
       "      <th>Length</th>\n",
       "      <th>Diameter</th>\n",
       "      <th>Height</th>\n",
       "      <th>Whole Weight</th>\n",
       "    </tr>\n",
       "  </thead>\n",
       "  <tbody>\n",
       "    <tr>\n",
       "      <td>Length</td>\n",
       "      <td>266.615920</td>\n",
       "      <td>212.260998</td>\n",
       "      <td>66.405285</td>\n",
       "      <td>1212.742439</td>\n",
       "    </tr>\n",
       "    <tr>\n",
       "      <td>Diameter</td>\n",
       "      <td>212.260998</td>\n",
       "      <td>180.499683</td>\n",
       "      <td>55.616200</td>\n",
       "      <td>993.656795</td>\n",
       "    </tr>\n",
       "    <tr>\n",
       "      <td>Height</td>\n",
       "      <td>66.405285</td>\n",
       "      <td>55.616200</td>\n",
       "      <td>61.597759</td>\n",
       "      <td>347.743797</td>\n",
       "    </tr>\n",
       "    <tr>\n",
       "      <td>Whole Weight</td>\n",
       "      <td>1212.742439</td>\n",
       "      <td>993.656795</td>\n",
       "      <td>347.743797</td>\n",
       "      <td>6341.910875</td>\n",
       "    </tr>\n",
       "  </tbody>\n",
       "</table>\n",
       "</div>"
      ],
      "text/plain": [
       "                   Length    Diameter      Height  Whole Weight\n",
       "Length         266.615920  212.260998   66.405285   1212.742439\n",
       "Diameter       212.260998  180.499683   55.616200    993.656795\n",
       "Height          66.405285   55.616200   61.597759    347.743797\n",
       "Whole Weight  1212.742439  993.656795  347.743797   6341.910875"
      ]
     },
     "metadata": {},
     "output_type": "display_data"
    },
    {
     "data": {
      "text/plain": [
       "0       15\n",
       "1        7\n",
       "2       10\n",
       "3        9\n",
       "4       10\n",
       "        ..\n",
       "1480    10\n",
       "1481     8\n",
       "1482    10\n",
       "1483     9\n",
       "1484    12\n",
       "Name: Ring Count, Length: 1485, dtype: int64"
      ]
     },
     "metadata": {},
     "output_type": "display_data"
    },
    {
     "data": {
      "text/plain": [
       "0        9\n",
       "1       20\n",
       "2       16\n",
       "3       19\n",
       "4       14\n",
       "        ..\n",
       "1272    11\n",
       "1273    11\n",
       "1274     8\n",
       "1275    11\n",
       "1276    10\n",
       "Name: Ring Count, Length: 1277, dtype: int64"
      ]
     },
     "metadata": {},
     "output_type": "display_data"
    }
   ],
   "source": [
    "\n",
    "X_momit = Aba_data_male\n",
    "X_fomit = Aba_data_female\n",
    "\n",
    "m_omitlist = []\n",
    "f_omitlist = []\n",
    "\n",
    "for i in H_mdiag.index:\n",
    "    if H_mdiag.iloc[i] > prex_m:\n",
    "        m_omitlist.append(i)\n",
    "\n",
    "for j in H_fdiag.index:\n",
    "    if H_fdiag.iloc[j] > prex_f:\n",
    "        f_omitlist.append(j)\n",
    "        \n",
    "X_momit = X_momit.drop(m_omitlist).reset_index(drop = True)\n",
    "X_fomit = X_fomit.drop(f_omitlist).reset_index(drop = True)\n",
    "\n",
    "Y_momit = X_momit['Ring Count']\n",
    "Y_fomit = X_fomit['Ring Count']\n",
    "\n",
    "X_momit = X_momit.drop(columns = ['Ring Count'])\n",
    "X_fomit = X_fomit.drop(columns = ['Ring Count'])\n",
    "\n",
    "pca_var = ['Length', 'Diameter', 'Height', 'Whole Weight']\n",
    "\n",
    "z_momit = pd.DataFrame(index = X_momit.index, columns = pca_var)\n",
    "z_fomit = pd.DataFrame(index = X_fomit.index, columns = pca_var)\n",
    "\n",
    "for var in pca_var:\n",
    "    for i in z_momit.index:\n",
    "        z_momit.loc[i, var] = (X_momit.loc[i, var] - X_momit[var].mean()) / (X_momit[var].std())\n",
    "        \n",
    "for var in pca_var:\n",
    "    for i in z_fomit.index:\n",
    "        z_fomit.loc[i, var] = (X_fomit.loc[i, var] - X_fomit[var].mean()) / (X_fomit[var].std())\n",
    "\n",
    "cov_momit = X_momit.cov()\n",
    "cov_fomit = X_fomit.cov()\n",
    "\n",
    "display(cov_momit, cov_fomit, Y_momit, Y_fomit)"
   ]
  },
  {
   "cell_type": "code",
   "execution_count": 125,
   "metadata": {},
   "outputs": [
    {
     "data": {
      "text/plain": [
       "0       15\n",
       "1        7\n",
       "2       10\n",
       "3        9\n",
       "4       10\n",
       "        ..\n",
       "1480    10\n",
       "1481     8\n",
       "1482    10\n",
       "1483     9\n",
       "1484    12\n",
       "Name: Ring Count, Length: 1485, dtype: int64"
      ]
     },
     "metadata": {},
     "output_type": "display_data"
    },
    {
     "data": {
      "text/plain": [
       "array([7.92733008e+03, 7.26773822e+01, 5.92139083e+00, 1.03302296e+01])"
      ]
     },
     "metadata": {},
     "output_type": "display_data"
    },
    {
     "data": {
      "text/plain": [
       "array([[ 0.19844792,  0.73462185, -0.60421166, -0.23638408],\n",
       "       [ 0.16213508,  0.62059995,  0.75540013,  0.13393491],\n",
       "       [ 0.06004882,  0.08498116, -0.2532339 ,  0.96179256],\n",
       "       [ 0.96474078, -0.2607003 ,  0.01309583, -0.03375013]])"
      ]
     },
     "metadata": {},
     "output_type": "display_data"
    },
    {
     "data": {
      "text/plain": [
       "array([6751.75207616,    6.94424528,   49.50207906,   42.42583751])"
      ]
     },
     "metadata": {},
     "output_type": "display_data"
    },
    {
     "data": {
      "text/plain": [
       "array([[ 0.1867514 ,  0.62512693,  0.75752536,  0.02226131],\n",
       "       [ 0.15300175, -0.78007506,  0.60648274, -0.01587609],\n",
       "       [ 0.05348981,  0.026414  , -0.00565011, -0.99820299],\n",
       "       [ 0.96894438,  0.00123499, -0.24145826,  0.05332135]])"
      ]
     },
     "metadata": {},
     "output_type": "display_data"
    }
   ],
   "source": [
    "eig_momit, eigv_momit = la.eig(cov_momit)\n",
    "eig_fomit, eigv_fomit = la.eig(cov_fomit)\n",
    "\n",
    "# Rerepresenting the original data set by a reduced linear combination equivalent based on the first Principal Component acting as the scalar weights multiplied with the predictor variables.\n",
    "O_fpca = pd.Series(eigv_fomit[:, 0] @ z_fomit.T) \n",
    "O_mpca = pd.Series(eigv_momit[:, 0] @ z_momit.T)\n",
    "\n",
    "# Create design matrix for OLS regression.\n",
    "O_mreg = pd.DataFrame(index = O_mpca.index, columns = ['Ones', 'O_mpca'])\n",
    "O_freg = pd.DataFrame(index = O_fpca.index, columns = ['Ones', 'O_fpca'])\n",
    "\n",
    "# Populating the \"ones\" column with \"1's\".\n",
    "O_mreg['Ones'] = 1\n",
    "O_freg['Ones'] = 1\n",
    "\n",
    "# Inserting the series containing the principal component into the remaining column.\n",
    "# Converted the object series to float data type enabling invocation of \"la.inv()\" method.\n",
    "O_mreg['O_mpca'] = O_mpca.astype(float).to_numpy()\n",
    "O_freg['O_fpca'] = O_fpca.astype(float).to_numpy()\n",
    "\n",
    "display(Y_momit)\n",
    "\n",
    "display(eig_momit.real, eigv_momit, eig_fomit.real, eigv_fomit)\n"
   ]
  },
  {
   "cell_type": "code",
   "execution_count": 151,
   "metadata": {},
   "outputs": [
    {
     "data": {
      "image/png": "[encoded data removed]",
      "text/plain": [
       "<Figure size 1080x720 with 4 Axes>"
      ]
     },
     "metadata": {
      "needs_background": "light"
     },
     "output_type": "display_data"
    },
    {
     "data": {
      "text/plain": [
       "0    10.705497\n",
       "1     0.861119\n",
       "dtype: float64"
      ]
     },
     "metadata": {},
     "output_type": "display_data"
    },
    {
     "data": {
      "text/plain": [
       "0    10.743434\n",
       "1     0.770268\n",
       "dtype: float64"
      ]
     },
     "metadata": {},
     "output_type": "display_data"
    },
    {
     "data": {
      "text/plain": [
       "0    11.129304\n",
       "1     0.633730\n",
       "dtype: float64"
      ]
     },
     "metadata": {},
     "output_type": "display_data"
    },
    {
     "data": {
      "text/plain": [
       "0    11.126860\n",
       "1     0.567465\n",
       "dtype: float64"
      ]
     },
     "metadata": {},
     "output_type": "display_data"
    }
   ],
   "source": [
    "beta_hatmomit = la.inv(O_mreg.T @ O_mreg) @ O_mreg.T @ Y_momit\n",
    "beta_hatfomit = la.inv(O_freg.T @ O_freg) @ O_freg.T @ Y_fomit\n",
    "\n",
    "omit_msp = pd.DataFrame(index = O_mreg.index, columns = ['O_mpca','Ring Count'])\n",
    "omit_fsp = pd.DataFrame(index = O_freg.index, columns = ['O_fpca','Ring Count'])\n",
    "\n",
    "omit_msp['O_mpca'] = O_mreg['O_mpca']\n",
    "omit_msp['Ring Count'] = Y_momit\n",
    "\n",
    "omit_fsp['O_fpca'] = O_freg['O_fpca']\n",
    "omit_fsp['Ring Count'] = Y_momit\n",
    "\n",
    "fig, axs = plt.subplots(2, 2, figsize = (15, 10))\n",
    "\n",
    "sns.scatterplot(data = omit_msp, x = omit_msp['O_mpca'], y = omit_msp['Ring Count'], ax = axs[0, 0]).set_title('Male Abalone WITH Omissions')\n",
    "sns.scatterplot(data = omit_fsp, x = omit_fsp['O_fpca'], y = omit_fsp['Ring Count'], ax = axs[0, 1]).set_title('Female Abalone WITH Omissions')\n",
    "\n",
    "axs[0, 0].plot(O_mreg['O_mpca'], beta_hatmomit[0] + beta_hatmomit[1]*O_mreg['O_mpca'], color = 'r')\n",
    "axs[0, 1].plot(O_freg['O_fpca'], beta_hatfomit[0] + beta_hatfomit[1]*O_freg['O_fpca'], color = 'r')\n",
    "\n",
    "sns.scatterplot(data = red_msp, x = 'X_mpca', y = 'Ring Count', ax = axs[1, 0]).set_title('Male  Abalone W/O Omissions')\n",
    "sns.scatterplot(data = red_fsp, x = 'X_fpca', y = 'Ring Count', ax = axs[1, 1]).set_title('Female Abalone W/O Omissions')\n",
    "\n",
    "axs[1, 0].plot(red_msp['X_mpca'], beta_hatm[0] + beta_hatm[1]*red_msp['X_mpca'], color = 'r')\n",
    "axs[1, 1].plot(red_fsp['X_fpca'], beta_hatf[0] + beta_hatf[1]*red_fsp['X_fpca'], color = 'r')\n",
    "\n",
    "plt.tight_layout()\n",
    "plt.show()\n",
    "\n",
    "display(beta_hatm, beta_hatmomit, beta_hatf, beta_hatfomit)"
   ]
  },
  {
   "cell_type": "markdown",
   "metadata": {},
   "source": [
    "#### Residual Analysis"
   ]
  },
  {
   "cell_type": "markdown",
   "metadata": {},
   "source": [
    "Residual analysis is a diagnostic tool used to evaluate an important assumption on linear regression models: homoscedastic residuals. Simply stated, the difference between the predicted average age and observed age of the abalone is normally distributed. If the residual plot show any type of trend over fitted values, then the regression model has possible missing terms of higher power, cross terms, or both."
   ]
  },
  {
   "cell_type": "markdown",
   "metadata": {},
   "source": [
    "#### Selecting Principal Components"
   ]
  },
  {
   "cell_type": "code",
   "execution_count": null,
   "metadata": {},
   "outputs": [],
   "source": []
  }
 ],
 "metadata": {
  "kernelspec": {
   "display_name": "Python 3",
   "language": "python",
   "name": "python3"
  },
  "language_info": {
   "codemirror_mode": {
    "name": "ipython",
    "version": 3
   },
   "file_extension": ".py",
   "mimetype": "text/x-python",
   "name": "python",
   "nbconvert_exporter": "python",
   "pygments_lexer": "ipython3",
   "version": "3.7.4"
  }
 },
 "nbformat": 4,
 "nbformat_minor": 2
}
